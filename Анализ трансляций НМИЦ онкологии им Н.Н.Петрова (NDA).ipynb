{
 "cells": [
  {
   "cell_type": "markdown",
   "id": "919b071d",
   "metadata": {},
   "source": [
    "<div style=\"border-radius: 10px; box-shadow: 0px 0px 2px; border: 1px solid; background:#eaeaea; position: relative; padding: 10px; padding-left: 10px;\">\n",
    "<h7 style=\"color:black; margin-bottom:20px\"> \n",
    "\n",
    "# <span style=\"color:#143a51\">Анализ трансляций НМИЦ онкологии им. Н. Н. Петрова <span> \n",
    "    \n",
    "---\n",
    "---   \n",
    "    \n",
    "**Заказчик:**    \n",
    "представитель НМИЦ онкологии им. Н. Н. Петрова\n",
    "\n",
    "**Цель:** \n",
    "необходимо обработать данные по посещаемости онкофорумов и вебинаров, исследовать данные, определить наиболее интересные темы, популярных спикеров, создать дашборд и предоставить рекомендации для будущих мероприятий.\n",
    "    \n",
    "---     \n",
    "    \n",
    "1. [Открытие данных](#start)\n",
    "2. [Предобработка данных](#preprocessing)\n",
    "- [данные о зрителях](#1)\n",
    "- [данные с расписанием](#2)\n",
    "- [объединение таблиц](#3)\n",
    "3. [Исследовательский анализ данных](#eda)\n",
    "4. [Дашборд](#dash)\n",
    "5. [Cписок зрителей для рекомендаций](#recommendation)\n",
    "6. [Вывод](#finish)\n",
    "---"
   ]
  },
  {
   "cell_type": "markdown",
   "id": "4144e20d",
   "metadata": {},
   "source": [
    "## Открытие данных\n",
    "<a id=\"start\"></a>"
   ]
  },
  {
   "cell_type": "code",
   "execution_count": 1,
   "id": "52c87a03",
   "metadata": {},
   "outputs": [],
   "source": [
    "# импортируем библиотеки \n",
    "import pandas as pd\n",
    "import numpy as np\n",
    "import re\n",
    "from datetime import datetime,  date, time, timedelta\n",
    "import matplotlib.pyplot as plt\n",
    "import seaborn as sns\n",
    "import plotly.express as px\n",
    "from plotly_calplot import calplot\n",
    "import dash\n",
    "import dash_bootstrap_components as dbc\n",
    "from dash import Dash, dcc, html, Input, Output, State\n",
    "from dash import Dash, dash_table\n",
    "import plotly.graph_objects as go\n",
    "import textwrap\n",
    "from textwrap import TextWrapper, dedent\n",
    "import warnings\n",
    "warnings.filterwarnings('ignore')\n",
    "# устанавливаем параметры отображение таблицы на экране \n",
    "pd.options.display.float_format ='{:.2f}'.format\n",
    "pd.options.display.max_columns = 40 \n",
    "#pd.set_option('display.max_rows', None)\n",
    "pd.set_option('display.max_colwidth', None)"
   ]
  },
  {
   "cell_type": "code",
   "execution_count": 2,
   "id": "8b1e1070",
   "metadata": {},
   "outputs": [
    {
     "ename": "FileNotFoundError",
     "evalue": "[Errno 2] No such file or directory: 'Все мероприятия NDA.csv'",
     "output_type": "error",
     "traceback": [
      "\u001b[0;31m---------------------------------------------------------------------------\u001b[0m",
      "\u001b[0;31mFileNotFoundError\u001b[0m                         Traceback (most recent call last)",
      "Input \u001b[0;32mIn [2]\u001b[0m, in \u001b[0;36m<cell line: 2>\u001b[0;34m()\u001b[0m\n\u001b[1;32m      1\u001b[0m \u001b[38;5;66;03m# считаем данные и сохраним в переменные\u001b[39;00m\n\u001b[0;32m----> 2\u001b[0m df \u001b[38;5;241m=\u001b[39m \u001b[43mpd\u001b[49m\u001b[38;5;241;43m.\u001b[39;49m\u001b[43mread_csv\u001b[49m\u001b[43m(\u001b[49m\u001b[38;5;124;43m'\u001b[39;49m\u001b[38;5;124;43mВсе мероприятия NDA.csv\u001b[39;49m\u001b[38;5;124;43m'\u001b[39;49m\u001b[43m,\u001b[49m\u001b[43m \u001b[49m\u001b[43msep\u001b[49m\u001b[38;5;241;43m=\u001b[39;49m\u001b[38;5;124;43m\"\u001b[39;49m\u001b[38;5;124;43m;\u001b[39;49m\u001b[38;5;124;43m\"\u001b[39;49m\u001b[43m)\u001b[49m\n\u001b[1;32m      3\u001b[0m df_shedule \u001b[38;5;241m=\u001b[39m pd\u001b[38;5;241m.\u001b[39mread_csv(\u001b[38;5;124m'\u001b[39m\u001b[38;5;124mРасписание мероприятий NDA.csv\u001b[39m\u001b[38;5;124m'\u001b[39m)\n",
      "File \u001b[0;32m~/opt/anaconda3/lib/python3.9/site-packages/pandas/util/_decorators.py:211\u001b[0m, in \u001b[0;36mdeprecate_kwarg.<locals>._deprecate_kwarg.<locals>.wrapper\u001b[0;34m(*args, **kwargs)\u001b[0m\n\u001b[1;32m    209\u001b[0m     \u001b[38;5;28;01melse\u001b[39;00m:\n\u001b[1;32m    210\u001b[0m         kwargs[new_arg_name] \u001b[38;5;241m=\u001b[39m new_arg_value\n\u001b[0;32m--> 211\u001b[0m \u001b[38;5;28;01mreturn\u001b[39;00m \u001b[43mfunc\u001b[49m\u001b[43m(\u001b[49m\u001b[38;5;241;43m*\u001b[39;49m\u001b[43margs\u001b[49m\u001b[43m,\u001b[49m\u001b[43m \u001b[49m\u001b[38;5;241;43m*\u001b[39;49m\u001b[38;5;241;43m*\u001b[39;49m\u001b[43mkwargs\u001b[49m\u001b[43m)\u001b[49m\n",
      "File \u001b[0;32m~/opt/anaconda3/lib/python3.9/site-packages/pandas/util/_decorators.py:331\u001b[0m, in \u001b[0;36mdeprecate_nonkeyword_arguments.<locals>.decorate.<locals>.wrapper\u001b[0;34m(*args, **kwargs)\u001b[0m\n\u001b[1;32m    325\u001b[0m \u001b[38;5;28;01mif\u001b[39;00m \u001b[38;5;28mlen\u001b[39m(args) \u001b[38;5;241m>\u001b[39m num_allow_args:\n\u001b[1;32m    326\u001b[0m     warnings\u001b[38;5;241m.\u001b[39mwarn(\n\u001b[1;32m    327\u001b[0m         msg\u001b[38;5;241m.\u001b[39mformat(arguments\u001b[38;5;241m=\u001b[39m_format_argument_list(allow_args)),\n\u001b[1;32m    328\u001b[0m         \u001b[38;5;167;01mFutureWarning\u001b[39;00m,\n\u001b[1;32m    329\u001b[0m         stacklevel\u001b[38;5;241m=\u001b[39mfind_stack_level(),\n\u001b[1;32m    330\u001b[0m     )\n\u001b[0;32m--> 331\u001b[0m \u001b[38;5;28;01mreturn\u001b[39;00m \u001b[43mfunc\u001b[49m\u001b[43m(\u001b[49m\u001b[38;5;241;43m*\u001b[39;49m\u001b[43margs\u001b[49m\u001b[43m,\u001b[49m\u001b[43m \u001b[49m\u001b[38;5;241;43m*\u001b[39;49m\u001b[38;5;241;43m*\u001b[39;49m\u001b[43mkwargs\u001b[49m\u001b[43m)\u001b[49m\n",
      "File \u001b[0;32m~/opt/anaconda3/lib/python3.9/site-packages/pandas/io/parsers/readers.py:950\u001b[0m, in \u001b[0;36mread_csv\u001b[0;34m(filepath_or_buffer, sep, delimiter, header, names, index_col, usecols, squeeze, prefix, mangle_dupe_cols, dtype, engine, converters, true_values, false_values, skipinitialspace, skiprows, skipfooter, nrows, na_values, keep_default_na, na_filter, verbose, skip_blank_lines, parse_dates, infer_datetime_format, keep_date_col, date_parser, dayfirst, cache_dates, iterator, chunksize, compression, thousands, decimal, lineterminator, quotechar, quoting, doublequote, escapechar, comment, encoding, encoding_errors, dialect, error_bad_lines, warn_bad_lines, on_bad_lines, delim_whitespace, low_memory, memory_map, float_precision, storage_options)\u001b[0m\n\u001b[1;32m    935\u001b[0m kwds_defaults \u001b[38;5;241m=\u001b[39m _refine_defaults_read(\n\u001b[1;32m    936\u001b[0m     dialect,\n\u001b[1;32m    937\u001b[0m     delimiter,\n\u001b[0;32m   (...)\u001b[0m\n\u001b[1;32m    946\u001b[0m     defaults\u001b[38;5;241m=\u001b[39m{\u001b[38;5;124m\"\u001b[39m\u001b[38;5;124mdelimiter\u001b[39m\u001b[38;5;124m\"\u001b[39m: \u001b[38;5;124m\"\u001b[39m\u001b[38;5;124m,\u001b[39m\u001b[38;5;124m\"\u001b[39m},\n\u001b[1;32m    947\u001b[0m )\n\u001b[1;32m    948\u001b[0m kwds\u001b[38;5;241m.\u001b[39mupdate(kwds_defaults)\n\u001b[0;32m--> 950\u001b[0m \u001b[38;5;28;01mreturn\u001b[39;00m \u001b[43m_read\u001b[49m\u001b[43m(\u001b[49m\u001b[43mfilepath_or_buffer\u001b[49m\u001b[43m,\u001b[49m\u001b[43m \u001b[49m\u001b[43mkwds\u001b[49m\u001b[43m)\u001b[49m\n",
      "File \u001b[0;32m~/opt/anaconda3/lib/python3.9/site-packages/pandas/io/parsers/readers.py:605\u001b[0m, in \u001b[0;36m_read\u001b[0;34m(filepath_or_buffer, kwds)\u001b[0m\n\u001b[1;32m    602\u001b[0m _validate_names(kwds\u001b[38;5;241m.\u001b[39mget(\u001b[38;5;124m\"\u001b[39m\u001b[38;5;124mnames\u001b[39m\u001b[38;5;124m\"\u001b[39m, \u001b[38;5;28;01mNone\u001b[39;00m))\n\u001b[1;32m    604\u001b[0m \u001b[38;5;66;03m# Create the parser.\u001b[39;00m\n\u001b[0;32m--> 605\u001b[0m parser \u001b[38;5;241m=\u001b[39m \u001b[43mTextFileReader\u001b[49m\u001b[43m(\u001b[49m\u001b[43mfilepath_or_buffer\u001b[49m\u001b[43m,\u001b[49m\u001b[43m \u001b[49m\u001b[38;5;241;43m*\u001b[39;49m\u001b[38;5;241;43m*\u001b[39;49m\u001b[43mkwds\u001b[49m\u001b[43m)\u001b[49m\n\u001b[1;32m    607\u001b[0m \u001b[38;5;28;01mif\u001b[39;00m chunksize \u001b[38;5;129;01mor\u001b[39;00m iterator:\n\u001b[1;32m    608\u001b[0m     \u001b[38;5;28;01mreturn\u001b[39;00m parser\n",
      "File \u001b[0;32m~/opt/anaconda3/lib/python3.9/site-packages/pandas/io/parsers/readers.py:1442\u001b[0m, in \u001b[0;36mTextFileReader.__init__\u001b[0;34m(self, f, engine, **kwds)\u001b[0m\n\u001b[1;32m   1439\u001b[0m     \u001b[38;5;28mself\u001b[39m\u001b[38;5;241m.\u001b[39moptions[\u001b[38;5;124m\"\u001b[39m\u001b[38;5;124mhas_index_names\u001b[39m\u001b[38;5;124m\"\u001b[39m] \u001b[38;5;241m=\u001b[39m kwds[\u001b[38;5;124m\"\u001b[39m\u001b[38;5;124mhas_index_names\u001b[39m\u001b[38;5;124m\"\u001b[39m]\n\u001b[1;32m   1441\u001b[0m \u001b[38;5;28mself\u001b[39m\u001b[38;5;241m.\u001b[39mhandles: IOHandles \u001b[38;5;241m|\u001b[39m \u001b[38;5;28;01mNone\u001b[39;00m \u001b[38;5;241m=\u001b[39m \u001b[38;5;28;01mNone\u001b[39;00m\n\u001b[0;32m-> 1442\u001b[0m \u001b[38;5;28mself\u001b[39m\u001b[38;5;241m.\u001b[39m_engine \u001b[38;5;241m=\u001b[39m \u001b[38;5;28;43mself\u001b[39;49m\u001b[38;5;241;43m.\u001b[39;49m\u001b[43m_make_engine\u001b[49m\u001b[43m(\u001b[49m\u001b[43mf\u001b[49m\u001b[43m,\u001b[49m\u001b[43m \u001b[49m\u001b[38;5;28;43mself\u001b[39;49m\u001b[38;5;241;43m.\u001b[39;49m\u001b[43mengine\u001b[49m\u001b[43m)\u001b[49m\n",
      "File \u001b[0;32m~/opt/anaconda3/lib/python3.9/site-packages/pandas/io/parsers/readers.py:1735\u001b[0m, in \u001b[0;36mTextFileReader._make_engine\u001b[0;34m(self, f, engine)\u001b[0m\n\u001b[1;32m   1733\u001b[0m     \u001b[38;5;28;01mif\u001b[39;00m \u001b[38;5;124m\"\u001b[39m\u001b[38;5;124mb\u001b[39m\u001b[38;5;124m\"\u001b[39m \u001b[38;5;129;01mnot\u001b[39;00m \u001b[38;5;129;01min\u001b[39;00m mode:\n\u001b[1;32m   1734\u001b[0m         mode \u001b[38;5;241m+\u001b[39m\u001b[38;5;241m=\u001b[39m \u001b[38;5;124m\"\u001b[39m\u001b[38;5;124mb\u001b[39m\u001b[38;5;124m\"\u001b[39m\n\u001b[0;32m-> 1735\u001b[0m \u001b[38;5;28mself\u001b[39m\u001b[38;5;241m.\u001b[39mhandles \u001b[38;5;241m=\u001b[39m \u001b[43mget_handle\u001b[49m\u001b[43m(\u001b[49m\n\u001b[1;32m   1736\u001b[0m \u001b[43m    \u001b[49m\u001b[43mf\u001b[49m\u001b[43m,\u001b[49m\n\u001b[1;32m   1737\u001b[0m \u001b[43m    \u001b[49m\u001b[43mmode\u001b[49m\u001b[43m,\u001b[49m\n\u001b[1;32m   1738\u001b[0m \u001b[43m    \u001b[49m\u001b[43mencoding\u001b[49m\u001b[38;5;241;43m=\u001b[39;49m\u001b[38;5;28;43mself\u001b[39;49m\u001b[38;5;241;43m.\u001b[39;49m\u001b[43moptions\u001b[49m\u001b[38;5;241;43m.\u001b[39;49m\u001b[43mget\u001b[49m\u001b[43m(\u001b[49m\u001b[38;5;124;43m\"\u001b[39;49m\u001b[38;5;124;43mencoding\u001b[39;49m\u001b[38;5;124;43m\"\u001b[39;49m\u001b[43m,\u001b[49m\u001b[43m \u001b[49m\u001b[38;5;28;43;01mNone\u001b[39;49;00m\u001b[43m)\u001b[49m\u001b[43m,\u001b[49m\n\u001b[1;32m   1739\u001b[0m \u001b[43m    \u001b[49m\u001b[43mcompression\u001b[49m\u001b[38;5;241;43m=\u001b[39;49m\u001b[38;5;28;43mself\u001b[39;49m\u001b[38;5;241;43m.\u001b[39;49m\u001b[43moptions\u001b[49m\u001b[38;5;241;43m.\u001b[39;49m\u001b[43mget\u001b[49m\u001b[43m(\u001b[49m\u001b[38;5;124;43m\"\u001b[39;49m\u001b[38;5;124;43mcompression\u001b[39;49m\u001b[38;5;124;43m\"\u001b[39;49m\u001b[43m,\u001b[49m\u001b[43m \u001b[49m\u001b[38;5;28;43;01mNone\u001b[39;49;00m\u001b[43m)\u001b[49m\u001b[43m,\u001b[49m\n\u001b[1;32m   1740\u001b[0m \u001b[43m    \u001b[49m\u001b[43mmemory_map\u001b[49m\u001b[38;5;241;43m=\u001b[39;49m\u001b[38;5;28;43mself\u001b[39;49m\u001b[38;5;241;43m.\u001b[39;49m\u001b[43moptions\u001b[49m\u001b[38;5;241;43m.\u001b[39;49m\u001b[43mget\u001b[49m\u001b[43m(\u001b[49m\u001b[38;5;124;43m\"\u001b[39;49m\u001b[38;5;124;43mmemory_map\u001b[39;49m\u001b[38;5;124;43m\"\u001b[39;49m\u001b[43m,\u001b[49m\u001b[43m \u001b[49m\u001b[38;5;28;43;01mFalse\u001b[39;49;00m\u001b[43m)\u001b[49m\u001b[43m,\u001b[49m\n\u001b[1;32m   1741\u001b[0m \u001b[43m    \u001b[49m\u001b[43mis_text\u001b[49m\u001b[38;5;241;43m=\u001b[39;49m\u001b[43mis_text\u001b[49m\u001b[43m,\u001b[49m\n\u001b[1;32m   1742\u001b[0m \u001b[43m    \u001b[49m\u001b[43merrors\u001b[49m\u001b[38;5;241;43m=\u001b[39;49m\u001b[38;5;28;43mself\u001b[39;49m\u001b[38;5;241;43m.\u001b[39;49m\u001b[43moptions\u001b[49m\u001b[38;5;241;43m.\u001b[39;49m\u001b[43mget\u001b[49m\u001b[43m(\u001b[49m\u001b[38;5;124;43m\"\u001b[39;49m\u001b[38;5;124;43mencoding_errors\u001b[39;49m\u001b[38;5;124;43m\"\u001b[39;49m\u001b[43m,\u001b[49m\u001b[43m \u001b[49m\u001b[38;5;124;43m\"\u001b[39;49m\u001b[38;5;124;43mstrict\u001b[39;49m\u001b[38;5;124;43m\"\u001b[39;49m\u001b[43m)\u001b[49m\u001b[43m,\u001b[49m\n\u001b[1;32m   1743\u001b[0m \u001b[43m    \u001b[49m\u001b[43mstorage_options\u001b[49m\u001b[38;5;241;43m=\u001b[39;49m\u001b[38;5;28;43mself\u001b[39;49m\u001b[38;5;241;43m.\u001b[39;49m\u001b[43moptions\u001b[49m\u001b[38;5;241;43m.\u001b[39;49m\u001b[43mget\u001b[49m\u001b[43m(\u001b[49m\u001b[38;5;124;43m\"\u001b[39;49m\u001b[38;5;124;43mstorage_options\u001b[39;49m\u001b[38;5;124;43m\"\u001b[39;49m\u001b[43m,\u001b[49m\u001b[43m \u001b[49m\u001b[38;5;28;43;01mNone\u001b[39;49;00m\u001b[43m)\u001b[49m\u001b[43m,\u001b[49m\n\u001b[1;32m   1744\u001b[0m \u001b[43m\u001b[49m\u001b[43m)\u001b[49m\n\u001b[1;32m   1745\u001b[0m \u001b[38;5;28;01massert\u001b[39;00m \u001b[38;5;28mself\u001b[39m\u001b[38;5;241m.\u001b[39mhandles \u001b[38;5;129;01mis\u001b[39;00m \u001b[38;5;129;01mnot\u001b[39;00m \u001b[38;5;28;01mNone\u001b[39;00m\n\u001b[1;32m   1746\u001b[0m f \u001b[38;5;241m=\u001b[39m \u001b[38;5;28mself\u001b[39m\u001b[38;5;241m.\u001b[39mhandles\u001b[38;5;241m.\u001b[39mhandle\n",
      "File \u001b[0;32m~/opt/anaconda3/lib/python3.9/site-packages/pandas/io/common.py:856\u001b[0m, in \u001b[0;36mget_handle\u001b[0;34m(path_or_buf, mode, encoding, compression, memory_map, is_text, errors, storage_options)\u001b[0m\n\u001b[1;32m    851\u001b[0m \u001b[38;5;28;01melif\u001b[39;00m \u001b[38;5;28misinstance\u001b[39m(handle, \u001b[38;5;28mstr\u001b[39m):\n\u001b[1;32m    852\u001b[0m     \u001b[38;5;66;03m# Check whether the filename is to be opened in binary mode.\u001b[39;00m\n\u001b[1;32m    853\u001b[0m     \u001b[38;5;66;03m# Binary mode does not support 'encoding' and 'newline'.\u001b[39;00m\n\u001b[1;32m    854\u001b[0m     \u001b[38;5;28;01mif\u001b[39;00m ioargs\u001b[38;5;241m.\u001b[39mencoding \u001b[38;5;129;01mand\u001b[39;00m \u001b[38;5;124m\"\u001b[39m\u001b[38;5;124mb\u001b[39m\u001b[38;5;124m\"\u001b[39m \u001b[38;5;129;01mnot\u001b[39;00m \u001b[38;5;129;01min\u001b[39;00m ioargs\u001b[38;5;241m.\u001b[39mmode:\n\u001b[1;32m    855\u001b[0m         \u001b[38;5;66;03m# Encoding\u001b[39;00m\n\u001b[0;32m--> 856\u001b[0m         handle \u001b[38;5;241m=\u001b[39m \u001b[38;5;28;43mopen\u001b[39;49m\u001b[43m(\u001b[49m\n\u001b[1;32m    857\u001b[0m \u001b[43m            \u001b[49m\u001b[43mhandle\u001b[49m\u001b[43m,\u001b[49m\n\u001b[1;32m    858\u001b[0m \u001b[43m            \u001b[49m\u001b[43mioargs\u001b[49m\u001b[38;5;241;43m.\u001b[39;49m\u001b[43mmode\u001b[49m\u001b[43m,\u001b[49m\n\u001b[1;32m    859\u001b[0m \u001b[43m            \u001b[49m\u001b[43mencoding\u001b[49m\u001b[38;5;241;43m=\u001b[39;49m\u001b[43mioargs\u001b[49m\u001b[38;5;241;43m.\u001b[39;49m\u001b[43mencoding\u001b[49m\u001b[43m,\u001b[49m\n\u001b[1;32m    860\u001b[0m \u001b[43m            \u001b[49m\u001b[43merrors\u001b[49m\u001b[38;5;241;43m=\u001b[39;49m\u001b[43merrors\u001b[49m\u001b[43m,\u001b[49m\n\u001b[1;32m    861\u001b[0m \u001b[43m            \u001b[49m\u001b[43mnewline\u001b[49m\u001b[38;5;241;43m=\u001b[39;49m\u001b[38;5;124;43m\"\u001b[39;49m\u001b[38;5;124;43m\"\u001b[39;49m\u001b[43m,\u001b[49m\n\u001b[1;32m    862\u001b[0m \u001b[43m        \u001b[49m\u001b[43m)\u001b[49m\n\u001b[1;32m    863\u001b[0m     \u001b[38;5;28;01melse\u001b[39;00m:\n\u001b[1;32m    864\u001b[0m         \u001b[38;5;66;03m# Binary mode\u001b[39;00m\n\u001b[1;32m    865\u001b[0m         handle \u001b[38;5;241m=\u001b[39m \u001b[38;5;28mopen\u001b[39m(handle, ioargs\u001b[38;5;241m.\u001b[39mmode)\n",
      "\u001b[0;31mFileNotFoundError\u001b[0m: [Errno 2] No such file or directory: 'Все мероприятия NDA.csv'"
     ]
    }
   ],
   "source": [
    "# считаем данные и сохраним в переменные\n",
    "df = pd.read_csv('Все мероприятия NDA.csv', sep=\";\")\n",
    "df_shedule = pd.read_csv('Расписание мероприятий NDA.csv')"
   ]
  },
  {
   "cell_type": "code",
   "execution_count": null,
   "id": "590f6e71",
   "metadata": {},
   "outputs": [],
   "source": [
    "# создадим функцию df_info, которая будет выводить основную информацию по датафрейму\n",
    "def df_info(data):\n",
    "    display(data.head())\n",
    "    display(data.info())\n",
    "    print('Пропуски:',  data.isna().sum(), sep='\\n')\n",
    "    print()\n",
    "    print('Дубликаты:', data.duplicated().sum())\n",
    "    print()\n",
    "    # визуализируем пропущенные значения в данных с помощью тепловой карты\n",
    "    sns.set(rc = {'figure.figsize': (10, 6)})\n",
    "    sns.heatmap(data.isna(), cbar=False).set_title('Распределение  пропусков', fontsize='16');"
   ]
  },
  {
   "cell_type": "markdown",
   "id": "f5c31ee2",
   "metadata": {},
   "source": [
    "### Данные с событиями\n",
    "<a id=\"1\"></a>"
   ]
  },
  {
   "cell_type": "code",
   "execution_count": null,
   "id": "b211b9bd",
   "metadata": {
    "scrolled": false
   },
   "outputs": [],
   "source": [
    "df_info(df)"
   ]
  },
  {
   "cell_type": "markdown",
   "id": "aac1b10f",
   "metadata": {},
   "source": [
    "`Для начала необходимо:`\n",
    "- удалить пустые столбцы,\n",
    "- изменить название столбцов,\n",
    "- удалить пустые строки, \n",
    "- удалить дубликаты,\n",
    "- посмотреть на пропуски в столбце id зрителей\n"
   ]
  },
  {
   "cell_type": "code",
   "execution_count": null,
   "id": "7b620058",
   "metadata": {},
   "outputs": [],
   "source": [
    "# удалим пустые строки\n",
    "df.drop(['IP', 'Unnamed: 22'], axis=1, inplace=True)\n",
    "# приведем название столбцов к snake_case\n",
    "df.columns = df.columns.str.strip().str.lower()\n",
    "df = df.rename(columns={'uid' : 'user_id',\n",
    "                        'поток' : 'potok',\n",
    "                        'устройство' : 'device',\n",
    "                        'оп.сис' : 'os',\n",
    "                        'броузер' : 'browser',\n",
    "                        'время начала' : 'date_start',\n",
    "                        'время окончания' : 'date_end',\n",
    "                        'timestamp начала' : 'timestamp_start',\n",
    "                        'timestamp окончания' : 'timestamp_end',\n",
    "                        'общее время просомтра, мин' : 'total_time_views',\n",
    "                        'время просомтра, мин' : 'time_views',\n",
    "                        'кол-во кликов' : 'count_click',\n",
    "                        'id открытой сессии' : 'id_openses',\n",
    "                        'id закрытой сессии' : 'id_closeses',\n",
    "                        'server session id' : 'session_id',\n",
    "                        'статус открытия' : 'open_status',\n",
    "                        'статус закрытия' : 'close_status',\n",
    "                        'мероприятие' : 'event'})\n",
    "df.columns"
   ]
  },
  {
   "cell_type": "code",
   "execution_count": null,
   "id": "0cd05c0a",
   "metadata": {},
   "outputs": [],
   "source": [
    "# у нас 20130 дубликатов, удалим их\n",
    "df = df.apply(lambda x: x.str.strip() if x.dtype == \"object\" else x)\n",
    "df = df.drop_duplicates(keep='first')\n"
   ]
  },
  {
   "cell_type": "code",
   "execution_count": null,
   "id": "a5385d6b",
   "metadata": {},
   "outputs": [],
   "source": [
    "# у нас есть пропуски в столбце user_id\n",
    "df[df['user_id'].isna()]"
   ]
  },
  {
   "cell_type": "markdown",
   "id": "a9a43732",
   "metadata": {},
   "source": [
    "У нас есть пустые строки, надо их удалить. \n",
    "Что касается пользователей с пропусками в user_id, то такие слушатели регистрировались по промокоду (на это указывает характерные баркоды). Баркод присваивается слушателю на конкретное мероприятие, а user_id присваивается 1 раз и он одинаков у слушателя на всех мероприятиях."
   ]
  },
  {
   "cell_type": "code",
   "execution_count": null,
   "id": "fe34015f",
   "metadata": {},
   "outputs": [],
   "source": [
    "# удалим те строки, где есть пропуски и в user_id и \n",
    "df = df[~((df['user_id'].isna()) & (df['barcode'].isna()))]\n",
    "start_size = df.shape[0]\n",
    "# избавимся от точки с 0 в данных с индификаторами пользователей\n",
    "df['user_id'] = df['user_id'].fillna('-1').astype('float').astype('int').astype('str')\n",
    "# заменим -1  на значение баркода\n",
    "df.loc[((df['user_id'] == '-1') & (df['barcode'].notna())), 'user_id'] = df['barcode']\n",
    "print('Кол-во строк в таблице df: ', start_size)"
   ]
  },
  {
   "cell_type": "markdown",
   "id": "8c8d8c8e",
   "metadata": {},
   "source": [
    "**Исследуем столбцы с временем**"
   ]
  },
  {
   "cell_type": "code",
   "execution_count": null,
   "id": "db4018ab",
   "metadata": {},
   "outputs": [],
   "source": [
    "# посмотрим за какие дни есть данные для каждого мероприятия\n",
    "df['date_start'] = pd.to_datetime(df['date_start'])\n",
    "df['date_end'] = pd.to_datetime(df['date_end'])\n",
    "df.groupby('event', as_index=False).agg({'date_start' : 'min', 'date_end': 'max'})"
   ]
  },
  {
   "cell_type": "markdown",
   "id": "bad77bb5",
   "metadata": {},
   "source": [
    "Даты проведения **`«Мероприятие 12»`** - **с 27 апреля по 2 мая 2023 года**, **`«Мероприятие 11»`** - **1 июля по 7 июля 2022 года**. Для «Мероприятие 12» максимальная дата завершения сеанса меньше минимальной даты начала."
   ]
  },
  {
   "cell_type": "markdown",
   "id": "5398e36f",
   "metadata": {},
   "source": [
    "Преобразуем столбцы  timestamp_start и timestamp_end"
   ]
  },
  {
   "cell_type": "code",
   "execution_count": null,
   "id": "7933f8ae",
   "metadata": {
    "scrolled": true
   },
   "outputs": [],
   "source": [
    "# из timestamp_start и timestamp_end сделаем новые столбцы, добавим 3 часа, учитывая московское время(UTC+3)\n",
    "df['dt_start'] = pd.to_datetime(df['timestamp_start'], unit='s', errors='raise') + timedelta(hours=3)\n",
    "df['dt_end'] = pd.to_datetime(df['timestamp_end'], unit='s', errors='raise') + timedelta(hours=3)\n",
    "# создадим новый столбец с датой 'dt' в df\n",
    "df['dt'] = pd.to_datetime(df['dt_start']).dt.date.astype('str')\n",
    "# если строки, где время окончания меньше времени старта\n",
    "df[df['dt_end'] < df['dt_start']]\n"
   ]
  },
  {
   "cell_type": "code",
   "execution_count": null,
   "id": "a372ff79",
   "metadata": {},
   "outputs": [],
   "source": [
    "# в таких строках заменим  время старта на время окончания и наоборот\n",
    "time = df[['dt_start', 'dt_end']]\n",
    "df['dt_start'], df['dt_end'] = time.min(axis=1), time.max(axis=1)\n",
    "\n",
    "# посмотрим на даты проведения мероприятий\n",
    "df.groupby('event', as_index=False).agg({'dt_start' : 'min', 'dt_end': 'max'})"
   ]
  },
  {
   "cell_type": "markdown",
   "id": "7ce231bc",
   "metadata": {},
   "source": [
    "С новыми столбцами dt_start и dt_end все даты совпадают с датами проведения мероприятий."
   ]
  },
  {
   "cell_type": "markdown",
   "id": "2fa4500d",
   "metadata": {},
   "source": [
    "В столбце `time_views` данные в разном формате, есть пропуски. Создадим новые столбцы и вычислим время просмотра."
   ]
  },
  {
   "cell_type": "code",
   "execution_count": null,
   "id": "7f73c15c",
   "metadata": {},
   "outputs": [],
   "source": [
    "# создадим новые столбцы с временем просмотра для каждого входа и \n",
    "# суммарным временем за день для каждого пользователя\n",
    "# пересчитаем для этих строк время просмотра\n",
    "df['time_views_sec'] = (df['dt_end'] - df['dt_start']).dt.seconds\n",
    "df['day_time_views_sec'] = df.groupby(['user_id', 'dt'])['time_views_sec'].transform(lambda x: x.sum())\n",
    "# удалим столбцы, которые мы пересчитали\n",
    "df.drop(['date_start', 'date_end', 'time_views', 'total_time_views'], axis=1, inplace=True)"
   ]
  },
  {
   "cell_type": "code",
   "execution_count": null,
   "id": "d66dfe0b",
   "metadata": {},
   "outputs": [],
   "source": [
    "# распределение длительности подключений в сек\n",
    "df['time_views_sec'].describe(percentiles=[.25, .5, .75, .9, .95, .99])"
   ]
  },
  {
   "cell_type": "markdown",
   "id": "e61a08eb",
   "metadata": {},
   "source": [
    "У нас есть подключения, которые длились 0 сек, 25 % от всех подключений длились 8 сек и меньше.  \n",
    "Медиана равняется около 3 мин,  а максимальное подключение длилось 19 часов."
   ]
  },
  {
   "cell_type": "code",
   "execution_count": null,
   "id": "857a8a66",
   "metadata": {},
   "outputs": [],
   "source": [
    "# доля строк и пользователей с подключением  0 сек\n",
    "print('Доля просмотров с длительность 0 сек: ',\n",
    "      round(df[df['time_views_sec'] == 0].shape[0] / start_size * 100, 2))\n",
    "print('Доля пользователей, у которых были просмотры с длительность 0 сек: ',\n",
    "      round(df[df['time_views_sec'] == 0]['user_id'].nunique() / df['user_id'].nunique() * 100, 2))"
   ]
  },
  {
   "cell_type": "code",
   "execution_count": null,
   "id": "76d454d3",
   "metadata": {
    "scrolled": true
   },
   "outputs": [],
   "source": [
    "# посмотрим на пользователей, у которых были только просмотры с длительностью 0 сек\n",
    "time_0 = (list(df[(df['user_id'].isin(df[df['time_views_sec'] == 0]['user_id'].unique()))]\n",
    "                                .groupby('user_id', as_index=False)['time_views_sec'].nunique()\n",
    "                                .query('time_views_sec  == 1')['user_id'].unique()))\n",
    "print('Кол-во пользователей только с 0 сек просмотров: ', len(time_0))\n"
   ]
  },
  {
   "cell_type": "markdown",
   "id": "10bc3e7a",
   "metadata": {},
   "source": [
    "После замены пропусков в других столбцах, удалим строки с длительностью 0 сек и дублирующие строки"
   ]
  },
  {
   "cell_type": "code",
   "execution_count": null,
   "id": "1a3405db",
   "metadata": {
    "scrolled": true
   },
   "outputs": [],
   "source": [
    "# посмотрим на данные с продолжительной длительностью\n",
    "df[df['time_views_sec'] > np.percentile(df['time_views_sec'], 99)].sort_values(by=['user_id', 'dt_start'])"
   ]
  },
  {
   "cell_type": "markdown",
   "id": "325365a3",
   "metadata": {},
   "source": [
    "У нас есть пересекающиеся по времени просмотры у одного пользователя. У некоторых просмотры завершаются в одно время, далее посмотрим на такие строки и попытаемся их обработать.\n",
    "Есть 2 просмотра, которые  начались в один день, а закончились на следующий, видимо после окончания видеотрансляции продолжалось фиксироваться время. По расписанию время окончания данной конференции в 16.00"
   ]
  },
  {
   "cell_type": "code",
   "execution_count": null,
   "id": "e75d636b",
   "metadata": {},
   "outputs": [],
   "source": [
    "# заменим в данных строках время окончания\n",
    "df.loc[(df['time_views_sec'] > 36000)\n",
    "       & (df['event'] == 'Мероприятие 5'), 'dt_end'] = '2022-07-22 16:00:00'\n",
    "# пересчитаем для этих строк время просмотра\n",
    "df['time_views_sec'] = (df['dt_end'] - df['dt_start']).dt.seconds\n",
    "df['day_time_views_sec'] = df.groupby(['user_id', 'dt'])['time_views_sec'].transform(lambda x: x.sum())\n"
   ]
  },
  {
   "cell_type": "code",
   "execution_count": null,
   "id": "b89b9daa",
   "metadata": {},
   "outputs": [],
   "source": [
    "# распределение суммарной длительности подключений в день у пользователя в сек\n",
    "df['day_time_views_sec'].describe(percentiles=[.25, .5, .75, .9, .95, .99])"
   ]
  },
  {
   "cell_type": "markdown",
   "id": "d14d4e63",
   "metadata": {},
   "source": [
    "Есть пользователь, которые за день смог посмотреть 56 часов"
   ]
  },
  {
   "cell_type": "code",
   "execution_count": null,
   "id": "cf54adaf",
   "metadata": {},
   "outputs": [],
   "source": [
    "# посмотрим, на пользователей, у которых больше 16 часов просмотра в день\n",
    "df[(df['day_time_views_sec'] > np.percentile(df['day_time_views_sec'], 99))\\\n",
    "   & (df['time_views_sec'] != 0)].sort_values(by=['user_id', 'dt_start']).head()"
   ]
  },
  {
   "cell_type": "markdown",
   "id": "62d91bc4",
   "metadata": {},
   "source": [
    "Пересекающие просмотры являются причиной аномально длительных просмотров за день."
   ]
  },
  {
   "cell_type": "code",
   "execution_count": null,
   "id": "06affff9",
   "metadata": {},
   "outputs": [],
   "source": [
    "# посмотрим на уникальные значения потоков, кол-во кликов\n",
    "for col in ['potok',  'count_click']:\n",
    "    display(df.groupby('event')[col].unique().to_frame())\n"
   ]
  },
  {
   "cell_type": "code",
   "execution_count": null,
   "id": "2074d8de",
   "metadata": {},
   "outputs": [],
   "source": [
    "# изменим тип данных в столбце potok на целое число\n",
    "df['potok'] = df['potok'].astype('int')"
   ]
  },
  {
   "cell_type": "markdown",
   "id": "dde74a88",
   "metadata": {},
   "source": [
    "В столбце `count_click` есть пропуски, возможно, что пропуски обозначают отсутствие кликов на всплывающее окно. Учитывая, что максимальное кол-во кликов в день равно 6, а у нас есть значения больше, возможно это ошибки. В этом столбце изменять ничего не будем, скорее всего он нам для исследования не пригодится."
   ]
  },
  {
   "cell_type": "markdown",
   "id": "b88d4b18",
   "metadata": {},
   "source": [
    "**Исследуем столбцы с проживанием пользователей**"
   ]
  },
  {
   "cell_type": "code",
   "execution_count": null,
   "id": "501cbcc1",
   "metadata": {},
   "outputs": [],
   "source": [
    "# посмотрим на уникальные значения в столбце city, country, region\n",
    "for col in ['country','region', 'city']:\n",
    "    print('Уникальные значения в столбце: ' + col)\n",
    "    df[col] = df[col].str.strip()\n",
    "    display(df[col].sort_values().unique())"
   ]
  },
  {
   "cell_type": "code",
   "execution_count": null,
   "id": "0c9dc800",
   "metadata": {},
   "outputs": [],
   "source": [
    "# много ли строк, где в столбце с городом указаны ошибочные данные\n",
    "df[df['city'].isin(['', '1', 'undefined', 'вар', 'еее', 'Выберите'])].shape[0]"
   ]
  },
  {
   "cell_type": "code",
   "execution_count": null,
   "id": "39451e2e",
   "metadata": {
    "scrolled": true
   },
   "outputs": [],
   "source": [
    "# посмотрим есть ли слушатели, у которых стоит указано несколько городов\n",
    "several_cities = (df\n",
    " .groupby('user_id',as_index=False)['city']\n",
    " .nunique()\n",
    " .query('city > 1')['user_id'].unique()\n",
    ")\n",
    "print('Кол-во пользователей с несколькими городами: ' , len(several_cities))\n",
    "#df[df['user_id'].isin(several_cities)]"
   ]
  },
  {
   "cell_type": "markdown",
   "id": "3b520dd4",
   "metadata": {},
   "source": [
    "У двоих есть в данных ошибки, например указано Ярославль с регионом Хоринск, у этого же пользователя указаны и разные профессии со специализацией. Другой указывал 1 и Ставрополь, такие ошибки исправим, у остальных 2-их оставим только  последний город"
   ]
  },
  {
   "cell_type": "code",
   "execution_count": null,
   "id": "ddefc204",
   "metadata": {},
   "outputs": [],
   "source": [
    "# сделаем замену для таких зрителей\n",
    "user_several_cities = {'19387': 'Ставрополь',\n",
    "                       '8861' : 'Хоринск',\n",
    "                       '1438' : 'Санкт-Петербург',\n",
    "                       '6431' : 'Сестрорецк'}\n",
    "df.loc[(df['user_id'].isin(several_cities)), 'city'] =\\\n",
    "      df.loc[(df['user_id'].isin(several_cities)), 'user_id'].map(user_several_cities)"
   ]
  },
  {
   "cell_type": "code",
   "execution_count": null,
   "id": "3138e535",
   "metadata": {},
   "outputs": [],
   "source": [
    "# поработаем с неявными дубликатаим в названиях стран\n",
    "df['country'] = df['country'].replace('Россич', 'Россия')\n",
    "# поработаем с неявными дубликатаим в названиях регионов\n",
    "regions = {'Москва' : 'Москва и Московская обл.',\n",
    "           'Волгоград' : 'Волгоградская обл.',\n",
    "           'Санкт-Петербург': 'Санкт-Петербург и область',\n",
    "           'Ленинградская область' : 'Санкт-Петербург и область',\n",
    "           'Нижегородская (Горьковская)' : 'Нижегородская обл.',\n",
    "           'Сахалин' : 'Сахалинская обл.',\n",
    "           'Липецкая область' : 'Липецкая обл.',\n",
    "           'Ульяновская':  'Ульяновская обл.',\n",
    "           'Башкортостан': 'Республика Башкортостан',\n",
    "           'Башкортостан(Башкирия)' : 'Республика Башкортостан',\n",
    "           'Калининград' : 'Калининградская обл.',\n",
    "           'Омская область' : 'Омская обл.',\n",
    "           'Хоринск' : 'Бурятия',\n",
    "           'Рязанская область' : 'Рязанская обл.'\n",
    "           }\n",
    "\n",
    "df['region'] = df['region'].replace(regions)\n",
    "\n",
    "# поработаем с неявными дубликатаим в названиях городов\n",
    "cities = {'Санкт – Петербург' : 'Санкт-Петербург',\n",
    "          'барнаул' : 'Барнаул',\n",
    "          'Ю.Сахалинск' : 'Южно-Сахалинск',\n",
    "          'НижНов' : 'Нижний Новгород',\n",
    "          'санкт-петербург' : 'Санкт-Петербург',\n",
    "          'Бутово' : 'Москва'\n",
    "         }\n",
    "df['city'] = df['city'].replace(cities)\n",
    "\n",
    "# заменим все аномальные значения на пропуски\n",
    "df['country'] = df['country'].replace(['1', 'undefined', 'Выберите'], np.nan)\n",
    "df['region'] = df['region'].replace(['', '1', 'undefined', 'Выберите'], np.nan)\n",
    "df['city'] = df['city'].replace(['', '1', 'undefined', 'Выберите', 'вар', 'еее'], np.nan)\n",
    "\n",
    "# сгруппируем по пользователям и заменим пропуски  на известные значения\n",
    "df['city'] = df.sort_values(by='city').groupby('user_id')['city'].ffill()\n",
    "df['country'] = df.sort_values(by='country').groupby('user_id')['country'].ffill()\n",
    "df['region'] = df.sort_values(by='region').groupby('user_id')['region'].ffill()\n",
    "\n",
    "# сгруппируем по городам и заменим пропуски в стране на известные значения\n",
    "df['region'] = df.sort_values(by='region').groupby('city')['region'].ffill()\n",
    "df['country'] = df.sort_values(by='country').groupby('city')['country'].ffill()"
   ]
  },
  {
   "cell_type": "code",
   "execution_count": null,
   "id": "a1a7442f",
   "metadata": {},
   "outputs": [],
   "source": [
    "# остались ли пропуски в стране, если есть данные о городе\n",
    "df[(df['country'].isna()) & (df['city'].notna())]['city'].unique()"
   ]
  },
  {
   "cell_type": "code",
   "execution_count": null,
   "id": "967f673a",
   "metadata": {},
   "outputs": [],
   "source": [
    "# заменим оставшийся пропуск для города п.г.т. Кузьмоловский\n",
    "df.loc[df['city'] == 'п.г.т. Кузьмоловский', 'country'] = 'Россия'"
   ]
  },
  {
   "cell_type": "code",
   "execution_count": null,
   "id": "e26f297a",
   "metadata": {},
   "outputs": [],
   "source": [
    "# заменим пропуски для городов, у которых не указан регион\n",
    "regions_city = {'Дзержинский' : 'Москва и Московская обл.',\n",
    "                'Нижний Тагил': 'Свердловская обл.',\n",
    "                'Химки' : 'Москва и Московская обл.',\n",
    "                'п.г.т. Кузьмоловский' : 'Санкт-Петербург и область',\n",
    "                'Биробиджан' : 'Еврейская автономная обл.',\n",
    "                'Костанай' : 'Костанайская обл.'\n",
    "               }\n",
    "df.loc[(df['city'].notna()) & (df['region'].isna()), 'region'] = \\\n",
    "    df.loc[(df['city'].notna()) & (df['region'].isna()), 'city'].map(regions_city)"
   ]
  },
  {
   "cell_type": "code",
   "execution_count": null,
   "id": "b4acc330",
   "metadata": {},
   "outputs": [],
   "source": [
    "# сколько осталось пропусков\n",
    "df[['country', 'region', 'city']].isna().sum()"
   ]
  },
  {
   "cell_type": "markdown",
   "id": "75dcf6c0",
   "metadata": {},
   "source": [
    "Теперь у нас одинаковое кол-во строк с пропусками по месту проживания"
   ]
  },
  {
   "cell_type": "code",
   "execution_count": null,
   "id": "0f536539",
   "metadata": {},
   "outputs": [],
   "source": [
    "# посмотрим сколько пользователей не указали  данные о месте проживания\n",
    "print('Доля пользователей с пропусками о месте проживания (%): ',\n",
    "    round(df[df['city'].isna()]['user_id'].nunique() / df['user_id'].nunique() * 100, 1))\n",
    "\n",
    "# заменим пропуски на значение неизвестно\n",
    "df[['country', 'region', 'city']] = df[['country', 'region', 'city']].replace(np.nan, 'неизвестно')"
   ]
  },
  {
   "cell_type": "markdown",
   "id": "739f484a",
   "metadata": {},
   "source": [
    "**Исследуем столбцы с профессиями и специализацией**"
   ]
  },
  {
   "cell_type": "code",
   "execution_count": null,
   "id": "6d5d95b4",
   "metadata": {},
   "outputs": [],
   "source": [
    "# приведем к нижнему регистру значения в столбце 'profession' и 'specialization'\n",
    "for col in ['profession','specialization']:\n",
    "    df[col] = df[col].str.lower()\n",
    "# посмотрим на кол-во пользователей по профессиям\n",
    "df.groupby('profession', as_index=False)['user_id'].nunique().sort_values(by='user_id', ascending=False)"
   ]
  },
  {
   "cell_type": "code",
   "execution_count": null,
   "id": "dafa18de",
   "metadata": {},
   "outputs": [],
   "source": [
    "# поправим некоторые значения в столбце с профессией\n",
    "prof = {'средний медпероснал' : 'средний медперсонал',\n",
    "     'мед сестра' : 'средний медперсонал',\n",
    "     'фельдшер' : 'средний медперсонал',\n",
    "     'немедициснкий персонал клиники' : 'немедицинский персонал клиники',\n",
    "     'онколог' : 'врач-онколог',\n",
    "     'врач -онколог' : 'врач-онколог',\n",
    "     'онкогинеколог' : 'врач-окногинеколог',\n",
    "     'онколог-гинеколог' : 'врач-окногинеколог',\n",
    "     'руководитель группы проектов &quot;все не напрасно&quot;' : 'исследователь',\n",
    "     'онколог , хт' : 'врач-химиотерапевт',\n",
    "     'химиотерапевт' : 'врач-химиотерапевт',\n",
    "     'врач, химиотерапевт': 'врач-химиотерапевт',\n",
    "     'врач хт' : 'врач-химиотерапевт',\n",
    "     'врач - онколог, химиотерапевт': 'врач-химиотерапевт',\n",
    "     'узи' : 'врач узд',\n",
    "     'руководитель хт службы 1го стационара, врач- онколог, химиотерапевт' : 'руководящее звено клиники',\n",
    "     'руководитель отделения торакальной онкологии' : 'руководящее звено клиники',\n",
    "     'зам гл врача' : 'руководящее звено клиники',\n",
    "     'нач. мед' : 'руководящее звено клиники',\n",
    "     'зам.гл.врач' :  'руководящее звено клиники',\n",
    "     'зав.отд' : 'руководящее звено клиники',\n",
    "     'студент' : 'обучающийся по медицинской специальности',\n",
    "     'студент медицинского вуза' : 'обучающийся по медицинской специальности',\n",
    "     'представитель пациентской организации' : 'представитель общественной организации',\n",
    "     'нач мед' : 'руководящее звено клиники',\n",
    "     'гл. онколог' : 'руководящее звено клиники',\n",
    "     'х/т зав отд' : 'руководящее звено клиники',\n",
    "     'руководитель хт службы 1го стационара, врач- онколог, химиотерапевт' : 'руководящее звено клиники',\n",
    "     'зав. хт, химиотерапевт'  : 'руководящее звено клиники'\n",
    "        }\n",
    "df['profession'] = df['profession'].replace(prof)"
   ]
  },
  {
   "cell_type": "code",
   "execution_count": null,
   "id": "66e53b7a",
   "metadata": {},
   "outputs": [],
   "source": [
    "# объединим профессию и специальность в один столбец\n",
    "# и посмотрим, возможно так больше будет информации о профессии и специальности\n",
    "df[['profession', 'specialization']] = df[['profession', 'specialization']].fillna('')\n",
    "df['prof_spec'] = (df['profession'] + ' + ' + df['specialization']).str.strip()\n",
    "df.groupby('prof_spec', as_index=False)['user_id'].nunique().sort_values(by='user_id', ascending=False)"
   ]
  },
  {
   "cell_type": "markdown",
   "id": "4abb4796",
   "metadata": {},
   "source": [
    "Так как в столбцах с профессиями и специализациями нет четкой структуры, каждый заполняет как хочет, то много ошибок и неявных дубликатов. Попытаемся из данных 2-х столбцов сделать столбец с профессиями зрителей. Отдельно править специализации зрителей не будем"
   ]
  },
  {
   "cell_type": "code",
   "execution_count": null,
   "id": "1e4aa6bc",
   "metadata": {},
   "outputs": [],
   "source": [
    "# зададим функцию\n",
    "def prof_replacement(row):\n",
    "    if 'ординатор - аспирант' in row:\n",
    "        return 'ординатор - аспирант'\n",
    "    if 'немедицинский персонал клиники' in row:\n",
    "        return 'немедицинский персонал клиники'\n",
    "    if 'обучающийся по медицинской специальности' in row:\n",
    "        return 'обучающийся по медицинской специальности'\n",
    "    if 'представитель медицинской компании' in row:\n",
    "        return 'представитель медицинской компании'\n",
    "    if 'исследователь' in row:\n",
    "        return 'исследователь'\n",
    "    if 'руководящее звено клиники' in row or 'зам.' in row or 'гл.' in row  or 'зав' in row or 'старш' in row  :\n",
    "        return 'руководящее звено клиники'\n",
    "    if 'врач' in row and 'хирург' in row and 'онко' in row:\n",
    "        return 'врач хирург-онколог'\n",
    "    if 'врач' in row and 'химиотер' in row or 'химиотерапевт' in row:\n",
    "        return 'врач-химиотерапевт'\n",
    "    if 'медперсонал' in row or 'перевязочная м/с' in row or 'сестра' in row:\n",
    "        return 'средний медперсонал'\n",
    "    if 'врач' in row and 'узд' in row:\n",
    "        return 'врач ультразвуковой диагностики'\n",
    "    if 'радиотерапевт' in row or ('радиотерапия' in row  and 'врач' in row):\n",
    "        return 'врач-радиотерапевт'\n",
    "    if ('врач' in row and 'мрт' in row) or ('врач' in row and 'рентген' in row) or 'врач + лучевая диагностика' in row:\n",
    "        return 'врач-рентгенолог'\n",
    "    if 'врач' in row and 'пато' in row:\n",
    "        return 'врач-патологоанатом'\n",
    "    if 'врач' in row and 'радиология' in row:\n",
    "        return 'врач-радиолог'\n",
    "    if ('врач' in row  and 'гинеколог' in row) or 'онкогинекология' in row:\n",
    "        return 'врач-гинеколог'\n",
    "    if 'врач' in row  and 'лаборатор' in row:\n",
    "        return 'врач клинической лабораторной диагностики'\n",
    "    if ('врач' in row  and 'гематоло' in row) or 'гематолог' in row:\n",
    "        return 'врач-гематолог'\n",
    "    if 'врач' in row  and 'эндоскоп' in row:\n",
    "        return 'врач-эндоскопист'\n",
    "    if 'врач' in row  and 'уролог' in row:\n",
    "        return 'врач-уролог'\n",
    "    if 'врач' in row  and 'колопрокт' in row:\n",
    "        return 'врач-колопроктолог'\n",
    "    if 'врач' in row  and ('реаниматол' in row or 'анестезиол' in row):\n",
    "        return 'врач анестизиолог-реаниматолог'\n",
    "    if ('врач' in row  and 'дермато' in row)  or 'дерматовенеролог' in row:\n",
    "        return 'врач-дерматовенеролог'\n",
    "    if 'врач' in row and 'гастро' in row:\n",
    "        return 'врач-гастроэнтеролог'\n",
    "    if ('врач' in row and 'нейро' in row) or 'нейрохирург' in row:\n",
    "        return 'врач-нейрохирург'\n",
    "    if 'врач' in row and 'пульм' in row:\n",
    "        return 'врач-пульмонолог'\n",
    "    if 'врач' in row and 'эндокри' in row:\n",
    "        return 'врач-эндокринолог'\n",
    "    if ('врач' in row and 'хирург' in row) or 'хирург' in row:\n",
    "        return 'врач-хирург'\n",
    "    if ('врач' in row and 'онко' in row) or 'онколог' in row:\n",
    "        return 'врач-онколог'\n",
    "    if 'врач' in row:\n",
    "        return 'врач'\n",
    "    if 'фармацевт' in row:\n",
    "        return 'фармацевт'\n",
    "    else:\n",
    "        return 'другое'\n",
    "\n",
    "# применим функцию, создадим новый столбец\n",
    "df['profession_new'] = df['prof_spec'].apply(prof_replacement)\n",
    "df.groupby('profession_new', as_index=False)['user_id'].nunique().sort_values(by='user_id', ascending=False)"
   ]
  },
  {
   "cell_type": "markdown",
   "id": "45bee887",
   "metadata": {},
   "source": [
    "В итоге удалось частично из 2-х изначальных столбцов восстановить профессии зрителей, наибольшее кол-во зрителей являются хирургами-онкологами, у 360 зрителей указано только врач и почти у 250 зрителей нет данных"
   ]
  },
  {
   "cell_type": "markdown",
   "id": "404bd9d6",
   "metadata": {},
   "source": [
    "**Проверим данные на неявные дубликаты и пересечения времени подключений у зрителей**"
   ]
  },
  {
   "cell_type": "code",
   "execution_count": null,
   "id": "15abeaed",
   "metadata": {},
   "outputs": [],
   "source": [
    "# удалим данные, где время одного просмотра равна 0 сек\n",
    "df = df[df['time_views_sec'] != 0]\n",
    "print('Кол-во строк в таблице df: ', df.shape[0])\n",
    "print('Удалили, в % ', round((1 - df.shape[0] / start_size) * 100, 2))"
   ]
  },
  {
   "cell_type": "code",
   "execution_count": null,
   "id": "97186fe3",
   "metadata": {},
   "outputs": [],
   "source": [
    "# кол-во дубликатов\n",
    "print('Кол-во дубликатов у пользователей с одинаковой датой и временем  просмотра, потоком: ',\n",
    "      df[df.duplicated(subset = ['user_id', 'potok', 'dt_start', 'dt_end'])].shape[0])\n",
    "# удалим дубликаты\n",
    "df = df.drop_duplicates(subset = ['user_id', 'potok', 'dt_start', 'dt_end'], keep ='first')\n",
    "# посмотрим если дубликаты по пользователю и времени просмотра\n",
    "print('Кол-во дубликатов у пользователей с одинаковой датой и временем  просмотра: ',\n",
    "      df[df.duplicated(subset = ['user_id', 'dt_start', 'dt_end'])].shape[0])"
   ]
  },
  {
   "cell_type": "code",
   "execution_count": null,
   "id": "334a1bab",
   "metadata": {},
   "outputs": [],
   "source": [
    "# посмотрим на пересекающие по времени просмотры у пользователей\n",
    "# создадим дополнительные столбцы\n",
    "df['dt_next'] = df.sort_values(by=['user_id', 'dt_start']).groupby(['user_id', 'dt'])['dt_start'].shift(-1)\n",
    "df['dt_previous'] = df.sort_values(by=['user_id', 'dt_start']).groupby(['user_id', 'dt'])['dt_end'].shift(1)\n",
    "\n",
    "# выведем долю таких событий\n",
    "print('Доля строк с пересекающимся временем у пользователей: ',\n",
    "    round(df[(df['dt_next'] < df['dt_end']) | (df['dt_previous'] > df['dt_start'])].shape[0] / start_size * 100, 1))\n",
    "print('Доля пользователей, у которых есть такие события: ',\n",
    "    round(df[(df['dt_next'] < df['dt_end']) |\n",
    "         (df['dt_previous'] > df['dt_start'])]['user_id'].nunique() / df['user_id'].nunique() * 100, 1))\n",
    "df[(df['dt_next'] < df['dt_end']) | (df['dt_previous'] > df['dt_start'])].head()"
   ]
  },
  {
   "cell_type": "markdown",
   "id": "f34b4269",
   "metadata": {},
   "source": [
    "Проанализировав нескольких пользователей и сопоставив время просмотров и расписание, а также какие сессии и доклады им было бы интресно слушать, учитывая специализацию,  можно предположить, что такие пользователи скорее всего переходили из потока в поток, но возможно не закрывали предыдущие вкладки и время окончания для всех просмотров у них зафиксировалась одно или фиксировалось с опазданием. Также если смотрели с телефона, то могли прерывать просмотр на звонок или  смотрели с нескольких устройств.\n",
    "\n",
    "Заменим у таких пересекающихся подключений  окончание просмотра на  время начала следующего входа."
   ]
  },
  {
   "cell_type": "code",
   "execution_count": null,
   "id": "fbee1e4b",
   "metadata": {},
   "outputs": [],
   "source": [
    "# заменим время окончания на время начала следующего входа для пересекающихся строк\n",
    "df = df.sort_values(by = ['user_id', 'dt_start'])\n",
    "df.loc[((df['dt_next'] < df['dt_end']) | (df['dt_previous'] > df['dt_start'])), 'dt_end']\\\n",
    "     = df[((df['dt_next'] < df['dt_end']) | (df['dt_previous'] > df['dt_start']))].groupby(['user_id', 'dt'])['dt_start'].shift(-1)\n",
    "\n",
    "# образовавшиеся пропуски заменим датой окончания из столбца timestamp_end\n",
    "df['dt_end'] = df['dt_end'].fillna(pd.to_datetime(df['timestamp_end'], unit='s', errors='raise') + timedelta(hours=3))\n"
   ]
  },
  {
   "cell_type": "code",
   "execution_count": null,
   "id": "eabdd3d8",
   "metadata": {},
   "outputs": [],
   "source": [
    "# посмотрим сколько пересекающихся строк осталось\n",
    "df['dt_next'] = df.sort_values(by=['user_id', 'dt_start']).groupby(['user_id', 'dt'])['dt_start'].shift(-1)\n",
    "df['dt_previous'] = df.sort_values(by=['user_id', 'dt_start']).groupby(['user_id', 'dt'])['dt_end'].shift(1)\n",
    "# выведем долю таких событий\n",
    "print('Доля строк с пересекающимся временем у пользователей: ',\n",
    "    round(df[(df['dt_next'] < df['dt_end']) | (df['dt_previous'] > df['dt_start'])].shape[0] / start_size * 100, 1))\n",
    "print('Доля пользователей, у которых есть такие события: ',\n",
    "    round(df[(df['dt_next'] < df['dt_end']) |\n",
    "         (df['dt_previous'] > df['dt_start'])]['user_id'].nunique() / df['user_id'].nunique() * 100, 1))"
   ]
  },
  {
   "cell_type": "code",
   "execution_count": null,
   "id": "7eb0a5ee",
   "metadata": {},
   "outputs": [],
   "source": [
    "# удалим оставшиеся пересекающиеся строки\n",
    "df = df[~((df['dt_next'] < df['dt_end']) | (df['dt_previous'] > df['dt_start']))]\n",
    "\n",
    "# пересчитаем столбцы time_views_sec и day_time_views_sec\n",
    "df['time_views_sec'] = (df['dt_end'] - df['dt_start']).dt.seconds\n",
    "df['day_time_views_sec'] = df.groupby(['user_id', 'dt'])['time_views_sec'].transform(lambda x: x.sum())\n"
   ]
  },
  {
   "cell_type": "code",
   "execution_count": null,
   "id": "4f80552f",
   "metadata": {},
   "outputs": [],
   "source": [
    "# оставим только нужные столбцы  из таблицы df\n",
    "df = df[['user_id', 'country', 'region', 'city', 'profession_new', 'dt', 'potok', 'dt_start', 'dt_end', \\\n",
    "         'time_views_sec', 'day_time_views_sec', 'event']]\n"
   ]
  },
  {
   "cell_type": "code",
   "execution_count": null,
   "id": "098bde53",
   "metadata": {},
   "outputs": [],
   "source": [
    "# всего удалили\n",
    "print('Удалено строк, в %: ', round((1 - df.shape[0] / start_size) * 100, 1))\n",
    "# кол-во пользователей\n",
    "print('Уникальное кол-во пользователей: ', df['user_id'].nunique())"
   ]
  },
  {
   "cell_type": "markdown",
   "id": "1a1ea0be",
   "metadata": {},
   "source": [
    "**Вывод:** в результате обработки удалили 8.1 % строк. В датафрейме у нас данные о 3190 зрителях.\n",
    "\n",
    "❗️В ходе предобработки выявили следующие ошибки в данных о сборах действий зрителей:\n",
    "\n",
    "- пропуски в данных с id зрителей\n",
    "- есть строки, где время завершения просмотра меньше времени начала\n",
    "- большое кол-во пропусков в личных данных зрителей, пропуски можно объяснить тем, что сами зрители не оставили о себе информацию. В данных с профессиями и специализациями много ошибок, каждый указывает, то что хочет, желательно далее при регистрации сделать данные о профессии и специализации обязательным полем и выбирать данные из предложенного словаря\n",
    "- большое количество пропусков в столбцах статусом открытия и закрытия, а также в столбцах id_openses, id_closeses, количеством кликов. В этих же столбцах встречаются и аномальные значения.\n",
    "- в данных у более 45% пользователей встречаются пересекающие по времени сессии, как и при просмотре одного потока так и разных. В таких сессиях не возможно понять, что в итоге смотрел зритель.\n",
    "- почти 7% строк имеют длительность просмотра  0 сек. Среди 56% зрителей, у которых были строки с 0 сек, 11 зрителей имеют только такие просмотры."
   ]
  },
  {
   "cell_type": "markdown",
   "id": "c9566c61",
   "metadata": {},
   "source": [
    "### Данные с расписанием мероприятий\n",
    "<a id=\"2\"></a>"
   ]
  },
  {
   "cell_type": "markdown",
   "id": "f6c3cbcb",
   "metadata": {},
   "source": [
    "Так как не всю информацию можно опубликовывать в первоначальном виде, предобработка данных  здесь не представлена, загружено уже обработанное расписание."
   ]
  },
  {
   "cell_type": "code",
   "execution_count": null,
   "id": "74064321",
   "metadata": {},
   "outputs": [],
   "source": [
    "# посмотрим на данные с расписанием после предобработки \n",
    "df_info(df_shedule)"
   ]
  },
  {
   "cell_type": "code",
   "execution_count": null,
   "id": "866cab19",
   "metadata": {},
   "outputs": [],
   "source": [
    "# удалим ненужный столбец\n",
    "df_shedule.drop(['Unnamed: 0', 'Unnamed: 0.1'], axis=1, inplace=True)\n",
    "# заменим пропуски в датафрейме\n",
    "df_shedule = df_shedule.fillna(' ')\n",
    "# заменим тип данных в столбцах с числом и временем\n",
    "for col in ['time_start', 'time_end', 'section_start', 'section_end']:\n",
    "    df_shedule[col] = pd.to_datetime(df_shedule[col], format='%Y-%m-%d %H:%M:%S')\n"
   ]
  },
  {
   "cell_type": "markdown",
   "id": "6dbfc21a",
   "metadata": {},
   "source": [
    "### Объединение таблицы с данными по просмотрам и расписанием\n",
    "<a id=\"3\"></a>"
   ]
  },
  {
   "cell_type": "code",
   "execution_count": null,
   "id": "7b8b9c8a",
   "metadata": {},
   "outputs": [],
   "source": [
    "# объединяем таблицы\n",
    "df1 = df.merge(df_shedule, on =['dt', 'potok', 'event'], how='outer')\n",
    "# фильтруем\n",
    "df1 = df1[(df1['dt_start'] <= df1['time_end']) & (df1['dt_end'] >= df1['time_start'])]\n",
    "\n",
    "# кол-во пользователей \n",
    "print('Кол-во пользователей до присоединения таблиц: ', df['user_id'].nunique())\n",
    "print('Кол-во пользователей после присоединения таблиц: ', df1['user_id'].nunique())\n",
    "print('Доля пользователей, которые отсеились: ', round(100 - df1['user_id'].nunique() / df['user_id'].nunique()* 100, 1))"
   ]
  },
  {
   "cell_type": "code",
   "execution_count": null,
   "id": "b526c992",
   "metadata": {},
   "outputs": [],
   "source": [
    "df1.head()"
   ]
  },
  {
   "cell_type": "markdown",
   "id": "372481dd",
   "metadata": {},
   "source": [
    "Видимо такие пользователи подключались не вовремя чтения докладов, а раньше или позже."
   ]
  },
  {
   "cell_type": "markdown",
   "id": "5605088b",
   "metadata": {},
   "source": [
    "`Добавим новые столбцы:`\n",
    "\n",
    "'total_time_views_report' - длительность просмотра доклада пользователем      \n",
    "'total_time_views_section' - длительность просмотра секции пользователем   \n",
    "'ratio_duration_speech' - доля длительности просмотра пользователем доклада от длительности доклада    \n",
    "'ratio_duration_section' - доля длительности просмотра пользователем секции от длительности секции   \n",
    "'report_head' - пользователь посмотрел 50 и более % от длительности доклада"
   ]
  },
  {
   "cell_type": "code",
   "execution_count": null,
   "id": "ac0b4c87",
   "metadata": {},
   "outputs": [],
   "source": [
    "# поменяем формат в столбце с датой\n",
    "df1['dt'] = pd.to_datetime(df1['dt'], format='%Y-%m-%d')\n",
    "\n",
    "# подсчет длительности просмотренного доклада для каждого просмотра пользователя\n",
    "conditions = [\n",
    "    (df1['dt_start'] >= df1['time_start']) & (df1['dt_end'] >= df1['time_end']),\n",
    "    (df1['dt_start'] <= df1['time_start']) & (df1['dt_end'] <= df1['time_end']),\n",
    "    (df1['dt_start'] <= df1['time_start']) & (df1['dt_end'] >= df1['time_end']),\n",
    "    (df1['dt_start'] >= df1['time_start']) & (df1['dt_end'] <= df1['time_end'])\n",
    "]\n",
    "values = [(df1['time_end'] - df1['dt_start']).dt.seconds, \n",
    "          (df1['dt_end'] - df1['time_start']).dt.seconds, \n",
    "          (df1['time_end'] - df1['time_start']).dt.seconds, \n",
    "          (df1['dt_end'] - df1['dt_start']).dt.seconds]\n",
    "df1['time_views_report'] = np.select(conditions, values)"
   ]
  },
  {
   "cell_type": "code",
   "execution_count": null,
   "id": "91a8ce7c",
   "metadata": {},
   "outputs": [],
   "source": [
    "# сгруппируем данные\n",
    "df1 = (df1\n",
    "       .groupby(['dt', 'user_id', 'potok', 'title', 'time_start', 'time_end'], as_index=False)\n",
    "       .agg({'speaker':'first',\n",
    "             'place_of_work':'first',\n",
    "             'city_speaker':'first',\n",
    "             'day_time_views_sec' : 'first',\n",
    "             'time_views_report' : 'sum',\n",
    "             'duration_speech_sec' : 'first',\n",
    "             'duration_section_sec' : 'first',\n",
    "             'event': 'first',\n",
    "             'country':'first',\n",
    "             'region':'first',\n",
    "             'city':'first',\n",
    "             'profession_new':'first',\n",
    "             'section_start':'first',\n",
    "             'section_end':'first', 'section':'first', 'nosology':'first',\n",
    "             'basic':'first'})\n",
    "       .rename(columns={'time_views_report' : 'total_time_views_report'})\n",
    "           )"
   ]
  },
  {
   "cell_type": "code",
   "execution_count": null,
   "id": "46907be7",
   "metadata": {},
   "outputs": [],
   "source": [
    "# находим длительность просмотра  сескции по каждому пользователю\n",
    "df1['total_time_views_section'] = (\n",
    "                                df1\n",
    "                                    .groupby(['user_id', 'dt', 'potok', 'section',  'section_start', 'section_end'])\n",
    "                                     ['total_time_views_report']\n",
    "                                    .transform(lambda x: round(x.sum()))\n",
    "                                   )\n",
    "# находим долю длительности просмотра от длительности доклада \n",
    "df1['ratio_duration_speech'] = (df1['total_time_views_report'] / df1['duration_speech_sec'] * 100).round(1)\n",
    "\n",
    "# находим долю длительности просмотра от длительности сессии \n",
    "df1['ratio_duration_section'] = (df1['total_time_views_section'] / df1['duration_section_sec'] * 100).round(1)\n",
    "\n",
    "# если пользователь посмотрел 50 и более % от длительности доклада, то отмечаем (1), что он просмотрел доклад\n",
    "df1['report_head'] = (df1['ratio_duration_speech'] >= 50.0) * 1\n"
   ]
  },
  {
   "cell_type": "code",
   "execution_count": null,
   "id": "0967efea",
   "metadata": {
    "scrolled": false
   },
   "outputs": [],
   "source": [
    "# посмотрим на распределение доли просмотров от длительности докладов у пользователей\n",
    "plt.figure(figsize=(10, 5))\n",
    "plt.hist(df1['ratio_duration_speech'], color= '#486273', bins=20)\n",
    "plt.xlabel('% просмотра', fontsize='12')\n",
    "plt.ylabel('количество', fontsize='12')\n",
    "plt.xticks(fontsize='12')\n",
    "plt.yticks(fontsize='12')\n",
    "plt.title('Распределение доли просмотра зрителями доклада от длительности доклада\\n ', fontsize='14')\n",
    "plt.show()\n",
    "\n",
    "# применим метод describe()\n",
    "df1['ratio_duration_speech'].describe().to_frame()"
   ]
  },
  {
   "cell_type": "markdown",
   "id": "44b08dcc",
   "metadata": {},
   "source": [
    "Видно, что чаще доклады зрители просматривают до конца. Есть у нас доклады, где доля просмотра равна нулю."
   ]
  },
  {
   "cell_type": "code",
   "execution_count": null,
   "id": "c3577908",
   "metadata": {},
   "outputs": [],
   "source": [
    "# посмотрим на распределение доли просмотров секций \n",
    "plt.figure(figsize=(10, 5))\n",
    "plt.hist(\n",
    "    df1.groupby(['user_id', 'dt', 'section', 'potok' , 'section_start', 'section_end'])['ratio_duration_section']\\\n",
    "    .first(), color='#486273', bins=20)\n",
    "plt.xlabel('% просмотра', fontsize='12')\n",
    "plt.ylabel('количество', fontsize='12')\n",
    "plt.xticks(fontsize='12')\n",
    "plt.yticks(fontsize='12')\n",
    "plt.title('Распределение доли просмотра зрителями секций от длительности секции\\n ', fontsize='14')\n",
    "plt.show()\n",
    "\n",
    "# применим метод describe()\n",
    "df1.groupby(['user_id', 'dt', 'section', 'potok' , 'section_start', 'section_end'])['ratio_duration_section']\\\n",
    "       .first().describe().to_frame()"
   ]
  },
  {
   "cell_type": "markdown",
   "id": "c0c73e45",
   "metadata": {},
   "source": [
    "Что касается просмотра секций, то зрители редко просматривают их целиком, почти половина секций просматривалась зрителем меньше 20 процентов от времени секции "
   ]
  },
  {
   "cell_type": "markdown",
   "id": "f9d043eb",
   "metadata": {},
   "source": [
    "**Вывод:** после объединения таблиц, у нас остались данные просмотров  3144 зрителей, у части зрителей просмотры были вне расписания выступлений."
   ]
  },
  {
   "cell_type": "markdown",
   "id": "12eb8a04",
   "metadata": {},
   "source": [
    "## Исследовательский анализ данных\n",
    "<a id=\"eda\"></a>"
   ]
  },
  {
   "cell_type": "markdown",
   "id": "a02bdd68",
   "metadata": {},
   "source": [
    "Посчитаем кол-во зрителей, докладов и спикеров. Нужно учесть, что для некоторых докладов стоит несколько спикеров, и есть доклады, которые, из-за отсутствия времени в расписании, мы объединяли вместе. "
   ]
  },
  {
   "cell_type": "code",
   "execution_count": null,
   "id": "9dc7b2e9",
   "metadata": {},
   "outputs": [],
   "source": [
    "# посчитаем сколько было уникальных зрителей, выступлений и спикеров на каждом мероприятии\n",
    "# учтем тот факт, что у  нас есть для одного доклада несколько докладчиков и совмещенные доклады\n",
    "event_count = (\n",
    "                df1\n",
    "                    .groupby(['event', 'time_start', 'section'], as_index=False)\n",
    "                    .agg({'title' : lambda x: (x.str.split(', ').explode().nunique()),\n",
    "                          'speaker' : 'first'})\n",
    "                    .groupby('event') \n",
    "                    .agg({'title' : 'sum',\n",
    "                          'speaker' : (lambda x: x.str.split(', ').explode().nunique())})\n",
    "                    .reset_index()\n",
    "                    .assign(user_id =  df1.groupby('event', as_index=False)\n",
    "                                          .agg({'user_id': 'nunique'})['user_id'])\n",
    "                    .sort_values(by= 'user_id')\n",
    ")\n",
    "event_count"
   ]
  },
  {
   "cell_type": "code",
   "execution_count": null,
   "id": "c7de92a0",
   "metadata": {},
   "outputs": [],
   "source": [
    "# создадим функцию для построения графика \n",
    "def horizont_plot(data, col1, col2, s, s1):\n",
    "   \n",
    "    fig = px.bar(data, x=col1, y=col2, \n",
    "             text = col1, color_discrete_sequence = ['#506d80'])\n",
    "    fig.update_traces(width=0.85, textposition='outside', textfont_size=12, \n",
    "                      textfont_family='Lato', textfont_color='#1d3a4d', textangle=0, cliponaxis=False)\n",
    "    fig.update_traces(hovertemplate=\"<b>%{y}</b><br><br>\"+'Кол-во: %{x}<br><extra></extra>')\n",
    "    fig.update_layout(autosize=False, \n",
    "                  margin={\"r\":35,\"t\":0,\"l\":20,\"b\":20},\n",
    "                  width=s,\n",
    "                  height=s1,\n",
    "                  xaxis=dict(title_text=\"\", showgrid=False),\n",
    "                  yaxis=dict(title_text=\"\", showgrid=False),\n",
    "                  paper_bgcolor=\"#f8f8f8\", \n",
    "                  plot_bgcolor='#f8f8f8', \n",
    "              )\n",
    "\n",
    "    fig.update_yaxes(tickfont=dict(family='Lato', size=12, color='#1d3a4d'), automargin=True)\n",
    "    fig.update_xaxes(visible=False, fixedrange=True)\n",
    "       \n",
    "    return fig"
   ]
  },
  {
   "cell_type": "code",
   "execution_count": null,
   "id": "4c1f37ae",
   "metadata": {},
   "outputs": [],
   "source": [
    "# тоже самое, только без вывода значений по оси y\n",
    "def horizont_plot1(data, col1, col2, s,s1):\n",
    "   \n",
    "    fig = px.bar(data, x=col1, y=col2, \n",
    "             text = col1, color_discrete_sequence = ['#506d80'])\n",
    "    fig.update_traces(width=0.85, textposition='outside', textfont_size=12, \n",
    "                      textfont_family='Lato', textfont_color='#1d3a4d', textangle=0, cliponaxis=False)\n",
    "    fig.update_traces(hovertemplate='Кол-во: %{x}<br><extra></extra>')\n",
    "    fig.update_layout(autosize=False, \n",
    "                  margin={\"r\":55,\"t\":0,\"l\":0,\"b\":20},\n",
    "                  width=s,\n",
    "                  height=s1, \n",
    "                  xaxis=dict(title_text=\"\", showgrid=False),\n",
    "                  yaxis=dict(title_text=\"\", showgrid=False),\n",
    "                  paper_bgcolor=\"#f8f8f8\", \n",
    "                  plot_bgcolor='#f8f8f8', \n",
    "              )\n",
    "\n",
    "    fig.update_yaxes(visible=False, fixedrange=True)\n",
    "    fig.update_xaxes(visible=False, fixedrange=True)\n",
    "        \n",
    "    return fig"
   ]
  },
  {
   "cell_type": "code",
   "execution_count": null,
   "id": "93b0b268",
   "metadata": {},
   "outputs": [],
   "source": [
    "# построим графики\n",
    "app = Dash(__name__, external_stylesheets=[dbc.themes.FLATLY])\n",
    "app.layout = dbc.Row([\n",
    "    html.H1(\"Анализ мероприятий\",  style = {'font-size' : 20, \n",
    "                                            'font-weight' : 'bold', \n",
    "                                            \"margin-top\": \"15px\",\n",
    "                                            \"margin-left\": \"40px\",\n",
    "                                            'text-align':'left'}),\n",
    "    html.Br(),\n",
    "    dbc.Col([\n",
    "        html.H6(\"Кол-во зрителей\",  style = {'font-size' : 12, \n",
    "                                             'font-weight' : 'bold', \n",
    "                                             'margin-top': \"30px\",\n",
    "                                             'margin-left': \"117px\",\n",
    "                                             'text-align':'left'}), \n",
    "        dcc.Graph(figure=horizont_plot(event_count, \"user_id\" , \"event\", 450, 500))], width={'size': 6},\n",
    "                                               style={\"margin-right\": \"5px\",  \"margin-top\": \"0px\", \"margin-bottom\": '30px' }),\n",
    "    dbc.Col([\n",
    "        html.H6(\"Кол-во выступлений\",  style = {'font-size' : 12, \n",
    "                                            'font-weight' : 'bold', \n",
    "                                            \"margin-top\": \"30px\",\n",
    "                                            \"margin-left\": \"0px\",\n",
    "                                            'text-align':'left'}),\n",
    "        dcc.Graph(figure=horizont_plot1(event_count, \"title\" , \"event\", 190,500))], width={'size': 3},\n",
    "                          style={\"margin-left\": \"10px\",  \"margin-top\": \"0px\", \"margin-bottom\": '30px'}\n",
    "                          ),\n",
    "    dbc.Col([\n",
    "        html.H6(\"Кол-во спикеров\",  style = {'font-size' : 12, \n",
    "                                            'font-weight' : 'bold', \n",
    "                                             \"margin-top\": \"30px\",\n",
    "                                             \"margin-left\": \"0px\",\n",
    "                                            'text-align':'left'}),\n",
    "        dcc.Graph(figure=horizont_plot1(event_count, \"speaker\" , \"event\", 150,500))], width={'size': 3},\n",
    "                                      style={\"margin-left\": \"-55px\",\n",
    "                                             \"margin-right\": \"0px\" ,\n",
    "                                             \"margin-top\": \"0px\",\n",
    "                                               \"margin-bottom\": '30px'}),\n",
    "  ],style={\"font-family\" : 'Lato',\n",
    "          \"backgroundColor\": \"#f8f8f8\",\n",
    "          \"margin-bottom\": \"0px\",\n",
    "          \"margin-right\": \"30px\",\n",
    "          \"margin-top\": \"0px\"}\n",
    ")\n",
    "\n",
    "app.run_server(debug=False, use_reloader=False, port=2005) "
   ]
  },
  {
   "cell_type": "markdown",
   "id": "90f3e08e",
   "metadata": {},
   "source": [
    "<img src=\"https://github.com/KristinaChu/picture/blob/main/oncoforum/%D0%9C%D0%B5%D1%80%D0%BE%D0%BF%D1%80%D0%B8%D1%8F%D1%82%D0%B8%D1%8F.png?raw=true\" width=\"800\" height=\"500\">"
   ]
  },
  {
   "cell_type": "markdown",
   "id": "89e5bbe5",
   "metadata": {},
   "source": [
    "Из крупных мероприятий больше зрителей было на онкофоруме \"Мероприятии 12\" в 2023 году, а вот из небольших мероприятий по кол-ву зрителей лидирует с большим преимуществом  - \"Мероприятие 5\"\n"
   ]
  },
  {
   "cell_type": "code",
   "execution_count": null,
   "id": "baf33420",
   "metadata": {},
   "outputs": [],
   "source": [
    "# зададим функцию для построения боксплота\n",
    "def box(data, col1, col2, titl, titl_x):\n",
    "    fig = px.box(data, x= col1, y= col2, color_discrete_sequence = ['#486273'])\n",
    "    fig.update_layout(autosize=False, \n",
    "                  margin={\"r\":25,\"t\":100,\"l\":0,\"b\":0},\n",
    "                  height=500,\n",
    "                  title=dict(text= '<b>'+titl+'</b>', font=dict(size=16, family='Lato', color='#1d3a4d')), \n",
    "                  xaxis=dict(title=dict(text= titl_x, \n",
    "                            font=dict(size=14, family='Lato', color='#1d3a4d')),showgrid=False),\n",
    "                  yaxis=dict(title_text=\"\", showgrid=False),\n",
    "                  paper_bgcolor=\"#f8f8f8\", \n",
    "                  plot_bgcolor='#f8f8f8', \n",
    "              )\n",
    "\n",
    "    fig.update_yaxes(tickfont=dict(family='Lato', size=12, color='#1d3a4d'), automargin=True)\n",
    "    fig.update_xaxes(tickfont=dict(family='Lato', size=12, color='#1d3a4d'), automargin=True)\n",
    "    fig.show()"
   ]
  },
  {
   "cell_type": "code",
   "execution_count": null,
   "id": "5a0cc726",
   "metadata": {},
   "outputs": [],
   "source": [
    "# построим диаграмму размаха длительности просмотра в день\n",
    "box((\n",
    "    df1\n",
    "     .groupby(['user_id', 'event', 'dt'], as_index=False) \n",
    "     .agg({'total_time_views_report': lambda x: x.sum() / 60})\n",
    "    ),  'total_time_views_report', 'event', \n",
    "    'Диаграмма размаха длительности просмотров выступлений<br> зрителями в день, мин.<br>  ', 'минуты')\n"
   ]
  },
  {
   "cell_type": "markdown",
   "id": "a5630738",
   "metadata": {},
   "source": [
    "<img src=\"https://github.com/KristinaChu/picture/blob/main/oncoforum/%D0%91%D0%BE%D0%BA%D1%81%D0%BF%D0%BB%D0%BE%D1%82%20%D0%B4%D0%BB%D0%B8%D1%82%D0%B5%D0%BB%D1%8C%D0%BD%D0%BE%D1%81%D1%82%D0%B8%20%D0%BF%D1%80%D0%BE%D1%81%D0%BC%D0%BE%D1%82%D1%80%D0%B0%20%D0%B4%D0%BE%D0%BA%D0%BB%D0%B0%D0%B4%D0%BE%D0%B2.png?raw=true\" width=\"650\" height=\"500\">"
   ]
  },
  {
   "cell_type": "code",
   "execution_count": null,
   "id": "ac2475d1",
   "metadata": {},
   "outputs": [],
   "source": [
    "# применим метод describe()\n",
    "(df1\n",
    " .groupby(['user_id', 'event', 'dt'], as_index=False)\n",
    " .agg({'total_time_views_report': lambda x: x.sum() / 60})\n",
    " .groupby('event')['total_time_views_report']\n",
    " .describe()\n",
    " .reset_index()\n",
    " .sort_values(by='mean', ascending=False)\n",
    " )"
   ]
  },
  {
   "cell_type": "markdown",
   "id": "735a275d",
   "metadata": {},
   "source": [
    "На \"Мероприятие 12\" в 2023 году зрители в среднем больше проводили времени за просмотром  докладов в день.\n",
    "В целом, чем меньше докладов на мероприятии, тем меньше и среднее время просмотра.\n"
   ]
  },
  {
   "cell_type": "code",
   "execution_count": null,
   "id": "c81a790d",
   "metadata": {},
   "outputs": [],
   "source": [
    "# построим диаграмму размаха кол-ва просмотренных докладов зрителями в день\n",
    "# доклад считается просмотренным, если зритель просмотрел половину и более доклада \n",
    "box((df1\n",
    "    .groupby(['user_id', 'event', 'dt'], as_index=False)['report_head'].sum()),\n",
    "    'report_head', 'event',  \n",
    "    'Диаграмма размаха количества просмотренных докладов<br> зрителями в день<br>  ', 'кол-во докладов'\n",
    "    )\n"
   ]
  },
  {
   "cell_type": "markdown",
   "id": "e36df644",
   "metadata": {},
   "source": [
    "<img src=\"https://github.com/KristinaChu/picture/blob/main/oncoforum/%D0%91%D0%BE%D0%BA%D1%81%D0%BF%D0%BB%D0%BE%D1%82%20%D0%BA%D0%BE%D0%BB-%D0%B2%D0%B0%20%D0%BF%D1%80%D0%BE%D1%81%D0%BC%D0%BE%D1%82%D1%80%D0%B5%D0%BD%D0%BD%D1%8B%D1%85%20%D0%B4%D0%BE%D0%BA%D0%BB%D0%B0%D0%B4%D0%BE%D0%B2.png?raw=true\" width=\"650\" height=\"500\">"
   ]
  },
  {
   "cell_type": "code",
   "execution_count": null,
   "id": "eb5eaa14",
   "metadata": {},
   "outputs": [],
   "source": [
    "# применим метод describe()\n",
    "(df1\n",
    " .groupby(['user_id', 'event', 'dt'], as_index=False)\n",
    " .agg({'report_head': 'sum'})\n",
    " .groupby('event')['report_head']\n",
    " .describe()\n",
    " .reset_index()\n",
    " .sort_values(by='mean', ascending=False)\n",
    ")"
   ]
  },
  {
   "cell_type": "markdown",
   "id": "3005215d",
   "metadata": {},
   "source": [
    "На \"Мероприятие 12\" зрители в среднем смотрели почти 10 докладов в день, на \"Мероприятие 11\" почти на 2 доклада меньше. \n",
    "\n",
    "Далее посмотрим  как по дням распределялась активность зрителей для 2-х этих мероприятий"
   ]
  },
  {
   "cell_type": "code",
   "execution_count": null,
   "id": "74ab7204",
   "metadata": {},
   "outputs": [],
   "source": [
    "# создадим отдельную таблицу для онкофорумов Белые ночи\n",
    "forum = df1[df1['event'].isin(['Мероприятие 11', 'Мероприятие 12'])]\n",
    "# создадим столбец с номером дня проведения форума\n",
    "forum['number_day'] = forum.sort_values(by='dt').groupby('event')['dt'].rank(method='dense').astype('int')\n",
    "\n",
    "# сгруппируем данные  и посчитаем кол-во зрителей, докладов и спикеров\n",
    "forum_day = (\n",
    "            forum[forum['speaker'] != '']\n",
    "                .groupby(['event', 'number_day', 'time_start', 'section'], as_index=False)\n",
    "                .agg({'title' : lambda x: (x.str.split(',').explode().nunique()),\n",
    "                      'speaker' : 'first'})\n",
    "                .groupby(['event', 'number_day']) \n",
    "                .agg({'title' : 'sum',\n",
    "                      'speaker' : (lambda x: x.str.split(',').explode().nunique())})\n",
    "                .reset_index()\n",
    "                .assign(user_id =  forum.groupby(['event', 'number_day'], as_index=False)\n",
    "                                        .agg({'user_id': 'nunique'})['user_id'])\n",
    "                .sort_values(by= ['number_day', 'event'])\n",
    ")\n",
    "forum_day"
   ]
  },
  {
   "cell_type": "code",
   "execution_count": null,
   "id": "3511864a",
   "metadata": {},
   "outputs": [],
   "source": [
    "# определим цвета для мероприятий\n",
    "colors ={\n",
    "         'Мероприятие 12' : '#80506d',\n",
    "         'Мероприятие 11' : '#91b1ae',\n",
    "         'другие мероприятия': '#d7d1a0'\n",
    "        }"
   ]
  },
  {
   "cell_type": "code",
   "execution_count": null,
   "id": "77f0bfff",
   "metadata": {},
   "outputs": [],
   "source": [
    "# создадим функцию для отрисовки линейного графика\n",
    "def plotly_line(data,col1, col2, titl, y1, y2):\n",
    "    fig = px.line(data, x= col1, y=col2,\n",
    "                  color='event', markers=True, \n",
    "                  color_discrete_map = colors\n",
    "                 )\n",
    "    fig.update_traces(line=dict(width=3.2), marker=dict(size=8))\n",
    "    fig.update_traces(hovertemplate='<br>День: %{x}<br>Количество: %{y}<br><extra></extra>')\n",
    "    fig.update_layout(autosize=True, \n",
    "                  margin={\"r\":25,\"t\":120,\"l\":30,\"b\":20},\n",
    "                  width=650,\n",
    "                  height=400,\n",
    "                  title=dict(text='<b>'+titl+'</b>',  y = 0.95,\n",
    "                            font=dict(size=18, family='Lato', color='#1d3a4d')), \n",
    "                  xaxis=dict(title=dict(text= \"день\", \n",
    "                            font=dict(size=14, family='Lato', color='#1d3a4d')), showgrid=False),\n",
    "                  yaxis=dict(title=dict(text= \"количество\", \n",
    "                            font=dict(size=14, family='Lato', color='#1d3a4d')), showgrid=False, \n",
    "                            ),\n",
    "                  \n",
    "                  paper_bgcolor=\"#f8f8f8\", \n",
    "                  plot_bgcolor='#f8f8f8', \n",
    "                  legend=dict(title='', orientation ='h', y=1.28, xanchor=\"left\",  \n",
    "                                   x=-0.02,  \n",
    "                              font_size=10, font_color='#1d3a4d')\n",
    "              )\n",
    "\n",
    "    fig.update_yaxes(range=[y1, y2], linewidth=1, linecolor='grey',\n",
    "                 tickfont=dict(family='Lato', size=12, color='#1d3a4d'), automargin=True)\n",
    "    fig.update_xaxes(linewidth=1, linecolor='grey',\n",
    "                  tickfont=dict(family='Lato', size=14, color='#1d3a4d'), automargin=True)\n",
    "    return fig"
   ]
  },
  {
   "cell_type": "code",
   "execution_count": null,
   "id": "67fb239f",
   "metadata": {},
   "outputs": [],
   "source": [
    "# применим функцию\n",
    "plotly_line(forum_day, \"number_day\", \"title\", 'Распределение докладов по дням', 0, 250)"
   ]
  },
  {
   "cell_type": "markdown",
   "id": "17157434",
   "metadata": {},
   "source": [
    "<img src=\"https://github.com/KristinaChu/picture/blob/main/oncoforum/%D0%9A%D0%BE%D0%BB-%D0%B2%D0%BE%20%D0%B4%D0%BE%D0%BA%D0%BB%D0%B0%D0%B4%D0%BE%D0%B2%20%D0%BF%D0%BE%20%D0%B4%D0%BD%D1%8F%D0%BC.png?raw=true\" width=\"650\" height=\"400\">"
   ]
  },
  {
   "cell_type": "markdown",
   "id": "24bcb6e2",
   "metadata": {},
   "source": [
    "Видно, что расписание отличается, в 2023 году в первый день было 17 докладов на одном потоке, а вот в следующие дни уже трансляция делилась на потоки и кол-во докладов резко возросло, в 2022 году кол-во докладов было распределено примерно равномерно. В 2023 году максимальное кол-во докладов пришлось на пятницу, в 2022 году на вторник."
   ]
  },
  {
   "cell_type": "code",
   "execution_count": null,
   "id": "f4e02ee1",
   "metadata": {},
   "outputs": [],
   "source": [
    "# применим функцию\n",
    "plotly_line(forum_day, \"number_day\", \"user_id\", 'Распределение зрителей по дням', 100, 1150)\n"
   ]
  },
  {
   "cell_type": "markdown",
   "id": "b2823e68",
   "metadata": {},
   "source": [
    "<img src=\"https://github.com/KristinaChu/picture/blob/main/oncoforum/%D0%9A%D0%BE%D0%BB-%D0%B2%D0%BE%20%D0%B7%D1%80%D0%B8%D1%82%D0%B5%D0%BB%D0%B5%D0%B8%CC%86%20%D0%BF%D0%BE%20%D0%B4%D0%BD%D1%8F%D0%BC.png?raw=true\" width=\"650\" height=\"400\">"
   ]
  },
  {
   "cell_type": "markdown",
   "id": "73af076b",
   "metadata": {},
   "source": [
    "Максимальное кол-во зрителей в 2022 году пришлось на 1 день и составило - 1007, в 2023 году- на 2-й день -916 зрителей. На выходных кол-во зрителей резко снижается. "
   ]
  },
  {
   "cell_type": "code",
   "execution_count": null,
   "id": "86d30bc8",
   "metadata": {},
   "outputs": [],
   "source": [
    "# применим функцию\n",
    "plotly_line((forum[(forum['speaker'] != '')]\n",
    "     .groupby(['user_id', 'event', 'number_day'], as_index=False)['report_head'].sum()\n",
    "     .groupby(['event', 'number_day'], as_index=False)['report_head'].mean().round(1)\n",
    "), \"number_day\", \"report_head\", 'Среднее количество просмотренных докладов', 0, 20)"
   ]
  },
  {
   "cell_type": "markdown",
   "id": "bebd836a",
   "metadata": {},
   "source": [
    "<img src=\"https://github.com/KristinaChu/picture/blob/main/oncoforum/%D0%A1%D1%80%D0%B5%D0%B4%D0%BD%D0%B5%D0%B5%20%D0%BA%D0%BE%D0%BB-%D0%B2%D0%BE%20%D0%BF%D1%80%D0%BE%D0%BC%D0%BE%D1%82%D1%80%D0%B5%D0%BD%D0%BD%D1%8B%D1%85%20%D0%B4%D0%BE%D0%BA%D0%BB%D0%B0%D0%B4%D0%BE%D0%B2.png?raw=true\" width=\"650\" height=\"400\">"
   ]
  },
  {
   "cell_type": "code",
   "execution_count": null,
   "id": "fefca022",
   "metadata": {},
   "outputs": [],
   "source": [
    "# посчитаем кол-во зрителей, кол-во просмотров, глубину просмотра на доклад\n",
    "# исключим 'Доклад 1398' - это вступительное слово\n",
    "def titles_tab(data):\n",
    "    titles_count_users = (\n",
    "                 data[data['title'] != 'Доклад 1398']\n",
    "                    .groupby(['dt', 'event', 'title', 'time_start', 'time_end', 'speaker', 'section'], \n",
    "                             as_index=False)\n",
    "                    .agg(count_users= ('user_id','nunique'),\n",
    "                         number_views=('report_head','sum') ,\n",
    "                         mean_depth= ('ratio_duration_speech', lambda x: round(x.mean(),1)),\n",
    "                         population_prof= ('profession_new', pd.Series.mode))\n",
    "                    .assign(rate = lambda x: round(x['number_views'] / x['count_users'] * 100, 1))\n",
    "                    .sort_values(by= 'number_views', ascending=False)\n",
    "    )\n",
    "\n",
    "    wrapper1 = textwrap.TextWrapper(width=15, max_lines=2, placeholder='...',  subsequent_indent='<br>')\n",
    "    titles_count_users['title_1'] = titles_count_users['title'].apply(lambda x: wrapper1.fill(x)) \n",
    "    return titles_count_users"
   ]
  },
  {
   "cell_type": "code",
   "execution_count": null,
   "id": "c2f94328",
   "metadata": {},
   "outputs": [],
   "source": [
    "titles_count_users = titles_tab(df1)\n",
    "titles_count_users.head()"
   ]
  },
  {
   "cell_type": "code",
   "execution_count": null,
   "id": "e68ad7c0",
   "metadata": {},
   "outputs": [],
   "source": [
    "# общие средние значения по докладам\n",
    "print(\"Среднее кол-во зрителей на доклад: \", titles_count_users['count_users'].mean().round(1))\n",
    "print(\"Среднее кол-во просмотров на доклад: \", \n",
    "      titles_count_users['number_views'].mean().round(1))\n",
    "print(\"Средняя глубина просмотра на доклад, %: \", titles_count_users['mean_depth'].mean().round(1))\n"
   ]
  },
  {
   "cell_type": "code",
   "execution_count": null,
   "id": "0f8ae098",
   "metadata": {},
   "outputs": [],
   "source": [
    "# глубина просмотра доклада\n",
    "titles_count_users.groupby('event')['mean_depth'].describe().reset_index()"
   ]
  },
  {
   "cell_type": "code",
   "execution_count": null,
   "id": "e151e630",
   "metadata": {},
   "outputs": [],
   "source": [
    "# создадим функцию для отрисовки горизонтального барплота с заголовком\n",
    "def horizont_plot2(data, col1, col2, titl, n1,n2):\n",
    "   \n",
    "    fig = px.bar(data, x=col1, y=col2,  orientation='h',\n",
    "             text = col1, color_discrete_sequence = ['#506d80']\n",
    "                )\n",
    "    fig.update_traces(width=0.87, textposition='outside', textfont_size=13, \n",
    "                      textfont_family='Lato', textfont_color='#1d3a4d', textangle=0, cliponaxis=False)\n",
    "    fig.update_traces(hovertemplate=\"<b>%{y}</b><br><br>\"+'Кол-во просмотров: %{x}<br><extra></extra>')\n",
    "    fig.update_layout(autosize=True, \n",
    "                  margin={\"r\":50,\"t\":100,\"l\":20,\"b\":10},\n",
    "                  width=n1,\n",
    "                  height=n2,\n",
    "                  title=dict(text='<b>'+ titl +'</b>', x=0.08, y=0.95,\n",
    "                            font=dict(size=20, family='Lato', color='#1d3a4d')), \n",
    "                  xaxis=dict(title_text=\"\", showgrid=False),\n",
    "                  yaxis=dict(title_text=\"\", showgrid=False),\n",
    "                  paper_bgcolor=\"#f8f8f8\", \n",
    "                  plot_bgcolor='#f8f8f8', \n",
    "              )\n",
    "\n",
    "    fig.update_yaxes(tickfont=dict(family='Lato', size=13,  color='#1d3a4d'), automargin=True)\n",
    "    fig.update_xaxes(visible=False, fixedrange=True)\n",
    "    return fig"
   ]
  },
  {
   "cell_type": "code",
   "execution_count": null,
   "id": "385d3217",
   "metadata": {},
   "outputs": [],
   "source": [
    "horizont_plot2(titles_count_users.iloc[0:10].sort_values(by='number_views'), \"number_views\" , \"title_1\",\n",
    "               'Топ-10 докладов<br>по количеству просмотров<br>  <br> ' , 450, 600)\n"
   ]
  },
  {
   "cell_type": "markdown",
   "id": "1d85fc30",
   "metadata": {},
   "source": [
    "<img src=\"https://github.com/KristinaChu/picture/blob/main/oncoforum/%D0%A2%D0%BE%D0%BF%2010%20%D0%B4%D0%BE%D0%BA%D0%BB%D0%B0%D0%B4%D0%BE%D0%B2%20%D0%BF%D0%BE%20%D0%BA%D0%BE%D0%BB-%D0%B2%D1%83%20%D0%BF%D1%80%D0%BE%D1%81%D0%BC%D0%BE%D1%82%D1%80%D0%BE%D0%B2.png?raw=true\" width=\"450\" height=\"600\">"
   ]
  },
  {
   "cell_type": "markdown",
   "id": "5a1aeda1",
   "metadata": {},
   "source": [
    "### Анализ спикеров"
   ]
  },
  {
   "cell_type": "code",
   "execution_count": null,
   "id": "972f795b",
   "metadata": {},
   "outputs": [],
   "source": [
    "# посчитаем кол-во выступлений, кол-во всех зрителей, кол-во просмотров, ср. кол-во просмотров\n",
    "# удалим 'Спикер 968' - это пропуск\n",
    "def speakers_tab(data):\n",
    "    speaker_count_users = (\n",
    "                 data[data['speaker'] != 'Спикер 968']\n",
    "                    .groupby(['speaker', 'place_of_work', 'time_start'], as_index=False)\n",
    "                    .agg({'user_id' : 'nunique', \n",
    "                          'title' : 'nunique',\n",
    "                          'report_head' : 'sum'})\n",
    "                    \n",
    "                     .groupby(['speaker', 'place_of_work'], as_index=False)\n",
    "                     .agg({'title' : 'sum',\n",
    "                           'user_id' : 'sum', \n",
    "                           'report_head' : 'sum'})\n",
    "                     .assign(rate = lambda x: round(x['report_head'] / x['user_id'] * 100, 1),\n",
    "                             mean_count = lambda x: round(x['report_head'] / x['title']).astype('int'))\n",
    "                    \n",
    "                    .sort_values(by= 'report_head', ascending=False)\n",
    "     )\n",
    "     \n",
    "    return  speaker_count_users"
   ]
  },
  {
   "cell_type": "code",
   "execution_count": null,
   "id": "989475a4",
   "metadata": {},
   "outputs": [],
   "source": [
    "speaker_count_users = speakers_tab(df1)\n",
    "speaker_count_users.head()"
   ]
  },
  {
   "cell_type": "code",
   "execution_count": null,
   "id": "e71eafc2",
   "metadata": {},
   "outputs": [],
   "source": [
    "# построим график \n",
    "horizont_plot2(speaker_count_users.iloc[0:10].sort_values(by='report_head'), \"report_head\" , \"speaker\",\n",
    "               'Топ-10 спикеров<br>по количеству просмотров<br>  <br> ' , 450, 600)"
   ]
  },
  {
   "cell_type": "markdown",
   "id": "13d6fa74",
   "metadata": {},
   "source": [
    "<img src=\"https://github.com/KristinaChu/picture/blob/main/oncoforum/%D0%A2%D0%BE%D0%BF-10%20%D1%81%D0%BF%D0%B8%D0%BA%D0%B5%D1%80%D0%BE%D0%B2.png?raw=true\" width=\"450\" height=\"600\">\n",
    "\n"
   ]
  },
  {
   "cell_type": "code",
   "execution_count": null,
   "id": "efdb97ac",
   "metadata": {},
   "outputs": [],
   "source": [
    "# построим график \n",
    "horizont_plot2(\n",
    "    speaker_count_users.sort_values(by='mean_count', ascending=False).iloc[0:10].sort_values(by='mean_count'),\n",
    "    \"mean_count\" , \"speaker\",\n",
    "    'Топ-10 спикеров<br>по среднему количеству просмотров<br>  <br> ' , 450, 600)"
   ]
  },
  {
   "cell_type": "markdown",
   "id": "e855ca00",
   "metadata": {},
   "source": [
    "<img src=\"https://raw.githubusercontent.com/KristinaChu/picture/41a183afe411d6b57d80c7a55cc80c6e899f6262/oncoforum/%D0%A2%D0%BE%D0%BF-10%20%D1%81%D0%BF%D0%B8%D0%BA%D0%B5%D1%80%D0%BE%D0%B2%20%D0%BF%D0%BE%20%D1%81%D1%80.%20%D0%BA%D0%BE%D0%BB-%D0%B2%D1%83%20%D0%BF%D1%80%D0%BE%D1%81%D0%BC%D0%BE%D1%82%D1%80%D0%BE%D0%B2.png\" width=\"450\" height=\"600\">"
   ]
  },
  {
   "cell_type": "markdown",
   "id": "a907fb9d",
   "metadata": {},
   "source": [
    "Некоторые спикеры  выступали несколько раз, поэтому лидеры по общему кол-ву зрителей и среднему кол-ву зрителей отличаются."
   ]
  },
  {
   "cell_type": "markdown",
   "id": "019ad6cf",
   "metadata": {},
   "source": [
    "**Анализ секций**"
   ]
  },
  {
   "cell_type": "code",
   "execution_count": null,
   "id": "71d9fce7",
   "metadata": {},
   "outputs": [],
   "source": [
    "# кол-во зрителей по каждой секции, кол-во зрителей, которые посмотрели хотя бы 1 доклад в секции\n",
    "# ср. кол-во просмотренных докладов в секции зрителями и ср. глубину просмотра\n",
    "\n",
    "def sections_tab(data):\n",
    "    section_count_users = (\n",
    "                 data\n",
    "                    .groupby(['user_id', 'dt', 'section', 'section_start', 'event'], as_index=False)\n",
    "                    .agg({'ratio_duration_section' : 'first',\n",
    "                          'report_head' : 'sum',\n",
    "                          'basic': 'first'})\n",
    "                     .groupby(['dt', 'section', 'section_start', 'event', 'basic'], as_index=False)\n",
    "                     .agg(\n",
    "                          count_users=('user_id', 'nunique'), \n",
    "                          count_number_views_titles=('report_head','sum'),\n",
    "                          mean_number_views= ('report_head','mean'),\n",
    "                          mean_depth= ('ratio_duration_section','mean'))\n",
    "                    .round(1)\n",
    "                    .assign(count_titles = (data\n",
    "                                                .groupby(['dt', 'section', 'section_start'], as_index=False)\n",
    "                                                .agg({'time_start':'nunique'})['time_start']))                  \n",
    "                    .sort_values(by= 'count_users', ascending=False)\n",
    "                   \n",
    " )\n",
    "    # добавляем новые столбцы, нужные для графиков\n",
    "    section_count_users['event_new'] = (np.where(section_count_users['event']\n",
    "                                        .isin(['Мероприятие 11', 'Мероприятие 12']),\n",
    "                                        section_count_users['event'], 'другие мероприятия'))\n",
    "   \n",
    "    return section_count_users"
   ]
  },
  {
   "cell_type": "code",
   "execution_count": null,
   "id": "d56036c4",
   "metadata": {},
   "outputs": [],
   "source": [
    "# применим функцию sections_tab\n",
    "section_count_users = sections_tab(df1)\n",
    "section_count_users.head()"
   ]
  },
  {
   "cell_type": "code",
   "execution_count": null,
   "id": "4337a6a8",
   "metadata": {},
   "outputs": [],
   "source": [
    "# общие средние значения по секциям\n",
    "print(\"Среднее кол-во выступлений для всех секций: \", section_count_users['count_titles'].mean().round(1))\n",
    "print(\"Среднее кол-во просмотренных выступлений в секции: \", \n",
    "      section_count_users['mean_number_views'].mean().round(1))\n",
    "print(\"Средняя глубина просмотра для всех секций, %: \", section_count_users['mean_depth'].mean().round(1))\n"
   ]
  },
  {
   "cell_type": "code",
   "execution_count": null,
   "id": "73fd6199",
   "metadata": {},
   "outputs": [],
   "source": [
    "# построим диаграмму размаха глубины просмотра доклада\n",
    "box((section_count_users[section_count_users['event'].isin([\n",
    "    'Мероприятие 11', 'Мероприятие 12'])]),\n",
    "    'mean_depth', 'event',  \n",
    "    'Диаграмма размаха глубины просмотра секций<br>  ', \"%\"\n",
    "    )"
   ]
  },
  {
   "cell_type": "markdown",
   "id": "d6ba0b31",
   "metadata": {},
   "source": [
    "<img src=\"https://github.com/KristinaChu/picture/blob/main/oncoforum/%D0%91%D0%BE%D0%BA%D1%81%D0%BF%D0%BB%D0%BE%D1%82%20%D0%B3%D0%BB%D1%83%D0%B1%D0%B8%D0%BD%D1%8B%20%D0%BF%D1%80%D0%BE%D1%81%D0%BC%D0%BE%D1%82%D1%80%D0%B0%20%D1%81%D0%B5%D0%BA%D1%86%D0%B8%D0%B8%CC%86.png?raw=true\" width=\"650\" height=\"500\">"
   ]
  },
  {
   "cell_type": "markdown",
   "id": "793164a6",
   "metadata": {},
   "source": [
    "В 2022 году на \"Мероприятии 11\" секции смотрели более продолжительно, возможно из-за того, что самих секций было меньше и зрители реже переключались с одного потока на другой."
   ]
  },
  {
   "cell_type": "code",
   "execution_count": null,
   "id": "85d171f4",
   "metadata": {},
   "outputs": [],
   "source": [
    "# функция для скатерплота\n",
    "def scatter_chart(data, col1, col2, col3, col4, w, h):\n",
    "    fig = px.scatter(\n",
    "              data, \n",
    "              x=col1, y=col2, \n",
    "              color=col3, size=col4, \n",
    "              color_discrete_map = colors,\n",
    "              size_max=35,\n",
    "              custom_data=['count_titles', 'event_new', 'section'])\n",
    "    fig.update_traces(marker_sizemin = 4)\n",
    "    fig.update_traces(\n",
    "    hovertemplate=\"<b>%{customdata[2]}</b><br><br>Кол-во зрителей: %{y}<br>Глубина просмотра, %: %{x:.1f}<br>Кол-во докладов: %{customdata[0]} <br>Ср.кол-во просмотренных докладов: %{marker.size:.1f}<extra></extra>\")\n",
    "    fig.update_layout(autosize=True, \n",
    "                  margin={\"r\":15,\"t\":120,\"l\":40,\"b\":10},\n",
    "                  width=w,\n",
    "                  height=h,\n",
    "                  title=dict(text='<b>'\"Анализ секций по количеству зрителей, глубине просмотра и среднего количества<br>просмотренных докладов<br> \"'</b>', \n",
    "                             y = 0.97, x=0.01,\n",
    "                            font=dict(size=20, family='Lato', color='#1d3a4d')), \n",
    "                  xaxis=dict(title=dict(text= \"глубина просмотра, %\", \n",
    "                            font=dict(size=14, family='Lato', color='#1d3a4d')), showgrid=False),\n",
    "                  yaxis=dict(title=dict(text= \"количество зрителей\", \n",
    "                            font=dict(size=14, family='Lato', color='#1d3a4d')), showgrid=False),\n",
    "                  paper_bgcolor=\"#f8f8f8\", \n",
    "                  plot_bgcolor='#f8f8f8', \n",
    "                  legend=dict(title='', orientation ='v', y=1.11, xanchor=\"left\",  \n",
    "                                  x=0.05,  \n",
    "                              font_size=12, font_color='#1d3a4d')\n",
    "              )\n",
    "\n",
    "    fig.update_yaxes(tickfont=dict(family='Lato', size=12, color='#1d3a4d'), automargin=True)\n",
    "    fig.update_xaxes(tickfont=dict(family='Lato', size=14, color='#1d3a4d'), automargin=True)\n",
    "    return fig"
   ]
  },
  {
   "cell_type": "code",
   "execution_count": null,
   "id": "3a9d987d",
   "metadata": {},
   "outputs": [],
   "source": [
    "scatter_chart(section_count_users, \"mean_depth\", \"count_users\",  \"event_new\", 'mean_number_views', 900, 600)"
   ]
  },
  {
   "cell_type": "markdown",
   "id": "f9a4bd08",
   "metadata": {},
   "source": [
    "<img src=\"https://github.com/KristinaChu/picture/blob/main/oncoforum/%D0%A1%D0%B5%D0%BA%D1%86%D0%B8%D0%B8.png?raw=true\" width=\"800\" height=\"600\">"
   ]
  },
  {
   "cell_type": "markdown",
   "id": "265e8026",
   "metadata": {},
   "source": [
    "**Посмотрим секции по тематикам и нозологии**"
   ]
  },
  {
   "cell_type": "code",
   "execution_count": null,
   "id": "fea5ad41",
   "metadata": {},
   "outputs": [],
   "source": [
    "# у нас были секции  с пропусками, сделаем замену на 'мультидисциплинарное'\n",
    "df1['basic'] = df1['basic'].str.lower().str.strip().replace('', 'мультидисциплинарное')\n",
    "# посмотрим сколько было секций в разной тематики\n",
    "df1.groupby('basic')['section_start'].nunique().sort_values(ascending=False).reset_index()\n"
   ]
  },
  {
   "cell_type": "code",
   "execution_count": null,
   "id": "3d92a115",
   "metadata": {},
   "outputs": [],
   "source": [
    "# посмотрим сколько было секций в разной нозологии\n",
    "df1['nosology'] = df1['nosology'].str.lower().str.strip().replace('', 'без нозологии')\n",
    "df1.groupby('nosology')['section_start'].nunique().sort_values(ascending=False).reset_index()\n"
   ]
  },
  {
   "cell_type": "markdown",
   "id": "0b0c73c0",
   "metadata": {},
   "source": [
    "### Анализ по городам и профессиям"
   ]
  },
  {
   "cell_type": "code",
   "execution_count": null,
   "id": "9faa1ad4",
   "metadata": {},
   "outputs": [],
   "source": [
    "horizont_plot2(df1.groupby('city')['user_id'].nunique().sort_values(ascending=False).reset_index().head(10)\\\n",
    "               .sort_values(by='user_id'),\n",
    "    \"user_id\" , \"city\",\n",
    "    'Топ-10 городов<br>по количеству зрителей<br>  <br> ' , 400, 500)\n"
   ]
  },
  {
   "cell_type": "markdown",
   "id": "6e99829a",
   "metadata": {},
   "source": [
    "<img src=\"https://github.com/KristinaChu/picture/blob/main/oncoforum/%D0%A2%D0%BE%D0%BF-10%20%D0%B3%D0%BE%D1%80%D0%BE%D0%B4%D0%BE%D0%B2.png?raw=true\" width=\"400\" height=\"500\">"
   ]
  },
  {
   "cell_type": "code",
   "execution_count": null,
   "id": "2ab1bffd",
   "metadata": {},
   "outputs": [],
   "source": [
    "horizont_plot2(df1.groupby('profession_new')['user_id'].nunique().sort_values(ascending=False).reset_index().head(10).sort_values(by='user_id'),\n",
    "    \"user_id\" , \"profession_new\",\n",
    "    'Топ-10 профессий<br>по количеству зрителей<br>  <br> ' , 500, 550)"
   ]
  },
  {
   "cell_type": "markdown",
   "id": "51ce1938",
   "metadata": {},
   "source": [
    "<img src=\"https://github.com/KristinaChu/picture/blob/main/oncoforum/%D0%A2%D0%BE%D0%BF-10%20%D0%BF%D1%80%D0%BE%D1%84%D0%B5%D1%81%D1%81%D0%B8%D0%B8%CC%86.png?raw=true\" width=\"500\" height=\"550\">"
   ]
  },
  {
   "cell_type": "markdown",
   "id": "309bcf8e",
   "metadata": {},
   "source": [
    "Далее выберем топ-15 профессий, и посмотрим сколько человек данной профессии смотрели ту или иную тематику"
   ]
  },
  {
   "cell_type": "code",
   "execution_count": null,
   "id": "a708a46d",
   "metadata": {},
   "outputs": [],
   "source": [
    "# выбираем профессии, также включим зрителей, которые не укази свою профессию\n",
    "prof_top = (\n",
    "    df1\n",
    "        .groupby('profession_new')['user_id']\n",
    "        .nunique()\n",
    "        .sort_values(ascending = False)\n",
    "        .reset_index().head(16)['profession_new'].tolist()\n",
    " )\n",
    "\n",
    "\n",
    "# будем учитывать зрителя, если он посмотрел хотя бы один доклад по данной тематики\n",
    "# добавим столбец с кол-вом уникальных зрителей в каждой профессии и посчитаем долю\n",
    "\n",
    "df_prof_top = (df1[(df1['profession_new'].isin(prof_top)) & (df1['report_head'] == 1)]\n",
    "               .groupby(['profession_new','basic'])['user_id'].nunique().reset_index()\n",
    "                .merge((df1[df1['profession_new'].isin(prof_top)] \n",
    "                           .groupby('profession_new')\n",
    "                           .agg(total_users_prof = ('user_id', 'nunique'))\n",
    "                           .reset_index()), on='profession_new', how='left')\n",
    "                .assign(rate = lambda x: (x['user_id'] / x['total_users_prof'] * 100).round(1) )\n",
    "                .sort_values(by='total_users_prof', ascending=False))\n",
    "display(df_prof_top.head())\n",
    "\n",
    "# столбцы для графика\n",
    "wrapper_prof = textwrap.TextWrapper(width=25)\n",
    "df_prof_top['profession_new_1'] = df_prof_top['profession_new'].apply(lambda x: wrapper_prof.fill(x))     \n",
    "df_prof_top['basic_1'] = df_prof_top['basic'].apply(lambda x: wrapper_prof.fill(x))"
   ]
  },
  {
   "cell_type": "code",
   "execution_count": null,
   "id": "45944be6",
   "metadata": {},
   "outputs": [],
   "source": [
    "# построим тепловую карту  \n",
    "plt.figure(figsize=(15, 8))\n",
    "\n",
    "sns.heatmap((df_prof_top\n",
    "             .sort_values(by='total_users_prof', ascending=False)\n",
    "             .pivot(index='basic_1', columns='profession_new_1', values='rate')\n",
    "             .fillna(0).T),\n",
    "              annot = True,  cbar=False, cmap=['#182026','#202b33','#283640','#30414c','#384c59','#405766','#486273','#506d80', '#617b8c', '#728a99', '#8498a6', '#96a7b2', '#a7b6bf',\n",
    "                  '#b9c4cc', '#cad3d8', '#dce1e5', '#edf0f2'][::-1],\n",
    "              fmt='.0f')\n",
    "    \n",
    "\n",
    "plt.xlabel('')\n",
    "plt.xticks(fontsize='13')\n",
    "plt.ylabel('')\n",
    "plt.yticks(fontsize='13')\n",
    "plt.title('Доля зрителей  разных специальностей в различных тематиках\\n ', fontsize='16')\n",
    "plt.show()"
   ]
  },
  {
   "cell_type": "markdown",
   "id": "19a0f1f1",
   "metadata": {},
   "source": [
    "Самые популярные тематики у зрителей всех профессий это мультидисциплинарное, лекарственная терапия и хирургия. Интересно, что из 529 врачей онкологов-хирургов только 63% посмотрели хотя бы один доклад в тематике по хирургии, а доклады из секций с мультидисциплинарной, посмотрело больше 69%. Хирургическая секция также популярна у врачей-химиотерапевтов, 60% из них посмотрели хотя бы один доклад по хирургии. "
   ]
  },
  {
   "cell_type": "code",
   "execution_count": null,
   "id": "123c19e5",
   "metadata": {},
   "outputs": [],
   "source": [
    "# создадим функцию для отображения индикатора\n",
    "def indicator_chart(value):\n",
    "    fig = go.Figure(go.Indicator(\n",
    "                 mode = \"number\",\n",
    "                 number={'font_color':'#57baae', 'font_size':40},\n",
    "                 value = value\n",
    "                    ))\n",
    "       \n",
    "    fig.update_layout(paper_bgcolor = '#f8f8f8', margin={\"r\":0,\"t\":0,\"l\":0,\"b\":0}, height=50)\n",
    "    return fig"
   ]
  },
  {
   "cell_type": "markdown",
   "id": "94a3584f",
   "metadata": {},
   "source": [
    "## Дашборд\n",
    "<a id=\"dash\"></a>"
   ]
  },
  {
   "cell_type": "code",
   "execution_count": null,
   "id": "db57fa0a",
   "metadata": {
    "scrolled": false
   },
   "outputs": [],
   "source": [
    "# дашборд\n",
    "\n",
    "app = Dash(__name__, external_stylesheets=[dbc.themes.FLATLY])\n",
    "\n",
    "app.layout = html.Div([\n",
    "     # заголовок\n",
    "        dbc.Row([\n",
    "            dbc.Col(\n",
    "                html.Img(id=\"player_image1\", \n",
    "                     src= 'https://upload.wikimedia.org/wikipedia/commons/b/be/Petrov_Research_Institute_of_Oncology_Logo.png?uselang=ru',\n",
    "                     style={\"height\": \"40px\",\n",
    "                             \"width\": \"auto\",\n",
    "                             \"margin-bottom\": \"10px\",\n",
    "                             \"margin-top\": \"15px\"}),\n",
    "                       width={'size' : 1}, style={\"backgroundColor\": \"#254961\",  \n",
    "                                                  \"margin-bottom\": \"0px\",\n",
    "                                                  \"margin-top\": \"0px\"\n",
    "                                                 }),\n",
    "            dbc.Col([\n",
    "                html.Div(\"НМИЦ онкологии\",  style = {'font-size' : 16 , \n",
    "                                                     'font-weight' : 'bold', \n",
    "                                                     'margin-left' : \"-65px\",\n",
    "                                                     \"margin-top\": \"15px\"}),\n",
    "                html.H6(\"им. Н.Н.Петрова\", style = {'font-size' : 14, \n",
    "                                                    'margin-left' : \"-65px\"}),\n",
    "                html.Br()],\n",
    "                   width={'size' : 1}, style={'backgroundColor': \"#254961\",\n",
    "                                              'color': '#f8f8f8',  \n",
    "                                              \"margin-top\": \"0px\",\n",
    "                                              'font-family' :'Lato'}),\n",
    "                \n",
    "           dbc.Col([ \n",
    "                html.H1(\"Анализ трансляций\",  style = {'font-size' : 30, \n",
    "                                                       'font-weight' : 'bold', \n",
    "                                                       \"margin-top\": \"20px\",\n",
    "                                                       \"margin-left\": \"0px\",\n",
    "                                                       'text-align':'center',\n",
    "                                                       'color': \"#1d3a4d\"})],\n",
    "                                                  \n",
    "                     width={'size' : 10}, style={\"margin-bottom\": \"0px\",\n",
    "                                                 \"margin-top\": \"0px\",\n",
    "                                                 'color': \"#254961\",\n",
    "                                                 'font-family' :'Lato',\n",
    "                                                 \"backgroundColor\": \"#eef8f6\"}\n",
    "            )\n",
    "        ],  className=\"h-15\", style={\"margin-bottom\": \"0px\",\n",
    "                                    \"margin-top\": \"10px\",\n",
    "                                    'margin-left' : \"0px\",\n",
    "                                    'margin-right' : \"0px\"}\n",
    "                           ),\n",
    "\n",
    "    dbc.Row([\n",
    "         # добавление фильтров\n",
    "    \n",
    "        dbc.Col([\n",
    "                html.Br(),\n",
    "                html.Div([html.Img(id=\"player_image2\", \n",
    "                                  src=\"https://img.icons8.com/ios-filled/50/EBEBEB/filter--v1.png\",\n",
    "                    style={ \"height\": \"18px\",\n",
    "                             \"width\": \"auto\",\n",
    "                             \"margin-left\": \"5px\",\n",
    "                             \"margin-top\": \"0px\",\n",
    "                             })], style={'display': 'inline-block'}),\n",
    "                html.Div([ html.H6('Выберите фильтр', style={'font-size':14,\n",
    "                                                             'color': \"#57baae\", \n",
    "                                                             \"margin-left\": \"13px\",\n",
    "                                                             'font-family' :'Lato', \n",
    "                                                             \"margin-top\": \"10px\"\n",
    "                          \n",
    "                          })], style={'display': 'inline-block'}),\n",
    "            \n",
    "                html.Details([\n",
    "                    html.Div([\n",
    "                        dcc.Checklist(\n",
    "                        id=\"event-checklist\",\n",
    "                        options= df1['event'].sort_values().unique(),\n",
    "                        value = df1['event'].sort_values().unique(),\n",
    "                        labelStyle={'color': '#black',  \n",
    "                                    \"backgroundColor\": \"#f8f8f8\",\n",
    "                                    'font-family' :'Lato', \n",
    "                                    'font-size':12, \n",
    "                                    'margin-left': '1px'}\n",
    "                                            )\n",
    "               ],\n",
    "                    className=\"updates-list\", style={\"overflow-x\":'hidden'}\n",
    "        ),  \n",
    "                html.Summary(\n",
    "                     html.Code(f\"Мероприятие\", style={\"color\":\"#f2f2f2\",\n",
    "                                                      'font-family' :'Lato', \n",
    "                                                      'font-size':20,\n",
    "                                                    \n",
    "                                                    }),\n",
    "                        className=\"updates-header\", style={\"color\": \"#57baae\", \n",
    "                                                           'font-size':28, \n",
    "                                                           'margin-left' : \"10px\", \n",
    "                                                            \"margin-top\": \"10px\", \n",
    "                                                            'font-family' :'Lato'})]\n",
    "        ),\n",
    "                html.Details([\n",
    "                    html.Div([dcc.DatePickerRange(\n",
    "                       id='date-picker',\n",
    "                       min_date_allowed= df1['dt'].min(),\n",
    "                       max_date_allowed= df1['dt'].max(),\n",
    "                       initial_visible_month=df1['dt'].min(),\n",
    "                       start_date=df1['dt'].min(),\n",
    "                       end_date=df1['dt'].max(),\n",
    "                       display_format='D.M.Y',\n",
    "                       )], style={\"color\": \"#254961\", \n",
    "                                  'font-family' :'Lato', \n",
    "                                  'font-size':10,\n",
    "                                  \"backgroundColor\": \"#254961\", \n",
    "                                  'width':'100%', \n",
    "                                  'height':'80%'}),\n",
    "                html.Summary(\n",
    "                    html.Code(f\"Дата\", style={\"color\":\"#f2f2f2\",\n",
    "                                              'font-family' :'Lato', \n",
    "                                              \"margin-top\": \"10px\",\n",
    "                                              'font-size':20 }),\n",
    "                     style={\"color\": \"#57baae\", \n",
    "                            'font-size':28, \n",
    "                            'margin-left' : \"10px\",  \n",
    "                            \"margin-top\": \"10px\",\n",
    "                            'font-family' :'Lato'}, className=\"updates-header\" )      \n",
    "                   \n",
    "        ]),\n",
    "          \n",
    "    \n",
    "                html.Br(),\n",
    "                html.Br(),\n",
    "                html.Div(\n",
    "                    [html.Button(\"Выбрать\", id=\"events-botton\", n_clicks=0)],\n",
    "                     className=\"me-1\",   \n",
    "                     style={\"display\": \"flow-root\", 'margin-left' : \"60px\", 'font-size':18,  \"color\":\"#254961\"}\n",
    "    ),\n",
    "                html.Br()\n",
    "            \n",
    "        ],  width={'size': 2} , style={\"backgroundColor\": \"#254961\", \n",
    "                                       \"margin-bottom\": \"-10px\",\n",
    "                                       \"margin-top\": \"0px\",\n",
    "                                       'font-family' :'Lato',}),\n",
    "       \n",
    "        dbc.Col([\n",
    "            dbc.Tabs([\n",
    "             # отрисовка 1 страницы дашборда\n",
    "                dbc.Tab([\n",
    "                    dbc.Row([\n",
    "                        dbc.Col([\n",
    "                            html.Br(),\n",
    "                            # добавление индикаторов\n",
    "                            html.H6( \"Количество уникальных зрителей\", style = {'font-size' : 18, \n",
    "                                                                                 'color': \"#1d3a4d\",\n",
    "                                                                                 \"margin-top\": \"10px\",\n",
    "                                                                                 \"margin-right\": \"50px\",\n",
    "                                                                                 \"margin-left\": \"20px\",\n",
    "                                                                                 'text-align':'left'}),\n",
    "                   \n",
    "                            dcc.Graph(id='count_users', \n",
    "                                      style = {\"margin-top\": \"10px\",\n",
    "                                               'margin-left': \"-23px\"} )], width={'size': 3}, \n",
    "                                      style = {\"backgroundColor\": '#f8f8f8',\n",
    "                                                \"margin-top\": \"30px\",\n",
    "                                                \"margin-left\": \"10px\",\n",
    "                                                'margin-bottom': \"250px\"}),  \n",
    "                        dbc.Col([html.Br(),\n",
    "                            html.H6( \"Количество уникальных спикеров\", style = {'font-size' : 18, \n",
    "                                                                                 'color': \"#1d3a4d\",\n",
    "                                                                                 \"margin-top\": \"10px\",\n",
    "                                                                                 \"margin-left\": \"20px\",\n",
    "                                                                                 \"margin-right\": \"50px\",\n",
    "                                                                                 'text-align':'left'}),\n",
    "                            dcc.Graph(id='count_speakers', \n",
    "                                      style = {\"margin-top\": \"10px\",\n",
    "                                               'margin-left': \"-23px\"})], width={'size': 3},\n",
    "                                               style = {\"backgroundColor\": '#f8f8f8',\n",
    "                                                        \"margin-top\": \"30px\",\n",
    "                                                        \"margin-left\": \"5px\",\n",
    "                                                        'margin-bottom': \"250px\"}),\n",
    "                        dbc.Col([html.Br(),\n",
    "                            html.H6(\"Количество выступлений\", style = {'font-size' : 18, \n",
    "                                                                        'color': \"#1d3a4d\",\n",
    "                                                                        \"margin-top\": \"10px\",\n",
    "                                                                        \"margin-left\": \"20px\",\n",
    "                                                                         \"margin-right\": \"50px\",\n",
    "                                                                        'text-align':'left'}),\n",
    "                            dcc.Graph(id='сount_titles', \n",
    "                                      style = {\"margin-top\": \"10px\",\n",
    "                                               'margin-left': \"-23px\"})], width={'size': 3},\n",
    "                                               style = {\"backgroundColor\": '#f8f8f8',\n",
    "                                                        \"margin-left\": \"5px\",\n",
    "                                                        \"margin-top\": \"30px\",\n",
    "                                                        'margin-bottom': \"250px\"}),\n",
    "                        dbc.Col([html.Br(),\n",
    "                            html.H6( \"Количество секций\", style = {'font-size' : 18, \n",
    "                                                                    'color': \"#1d3a4d\",\n",
    "                                                                    \"margin-top\": \"10px\",\n",
    "                                                                    \"margin-right\": \"130px\",\n",
    "                                                                    \"margin-left\": \"20px\",\n",
    "                                                                    'text-align':'left'}),\n",
    "                            dcc.Graph(id='сount_sections', \n",
    "                                      style = {\"margin-top\": \"10px\",\n",
    "                                               'margin-left': \"-23px\"})],  width={'size': 3},\n",
    "                                      style = {\"backgroundColor\": '#f8f8f8',\n",
    "                                                \"margin-top\": \"30px\",\n",
    "                                                \"margin-left\": \"-30px\",\n",
    "                                                'margin-bottom': \"250px\"})\n",
    "                            \n",
    "                        ], className=\"h-15\", style={'margin-bottom' : \"0px\", \n",
    "                                                    'margin-top' : \"0px\", \n",
    "                                                    'margin-left': \"0px\", \n",
    "                                                    \"margin-right\": \"0px\"}\n",
    "                    ),\n",
    "                    dbc.Row([\n",
    "                        dbc.Col([\n",
    "                            html.Br(),\n",
    "                            html.H6( \"Cредняя длительность просмотра, мин. \",\n",
    "                                    style = {'font-size' : 18, \n",
    "                                             'color': \"#1d3a4d\",\n",
    "                                             \"margin-top\": \"25px\",\n",
    "                                             \"margin-left\": \"20px\",\n",
    "                                             \"margin-right\": \"50px\",\n",
    "                                             'text-align':'left'}),\n",
    "                            dcc.Graph(id='mean_users_view', \n",
    "                                      style = {\"margin-top\": \"10px\",\n",
    "                                               'margin-left': \"-18px\"}),\n",
    "                            html.Br(),\n",
    "                            html.Br(),\n",
    "                            html.Br(),\n",
    "                            html.Br(),\n",
    "                            html.H6( \"Cреднее количество просмотренных докладов\",\n",
    "                                    style = {'font-size' : 18, \n",
    "                                             'color': \"#1d3a4d\",\n",
    "                                              \"margin-top\": \"0px\",\n",
    "                                              \"margin-left\": \"20px\",\n",
    "                                              \"margin-right\": \"50px\",\n",
    "                                              'text-align':'left'}),\n",
    "                            dcc.Graph(id='mean_users_titles', \n",
    "                                      style = {\"margin-top\": \"10px\",\n",
    "                                               'margin-left': \"-18px\"})], width={'size': 3},\n",
    "                                      style = {\"backgroundColor\": '#f8f8f8',\n",
    "                                                \"margin-top\": \"-200px\",\n",
    "                                                \"margin-left\": \"15px\",\n",
    "                                                'margin-bottom': \"20px\"}),\n",
    "                         # добавление календаря мероприятий\n",
    "                        dbc.Col([\n",
    "                            html.H6(\"Календарь мероприятий\",\n",
    "                                    style = {'font-size' : 18, \n",
    "                                             'color': \"#1d3a4d\",\n",
    "                                              \"margin-top\": \"15px\",\n",
    "                                              \"margin-left\": \"15px\",\n",
    "                                              \"margin-right\": \"50px\",\n",
    "                                              'text-align':'left'}),\n",
    "                             dcc.Graph(id='calendar')]\n",
    "                        ,  width={'size': 7}, style={'margin-bottom' : \"20px\", \n",
    "                                                     'margin-top' : \"-200px\", \n",
    "                                                     'margin-left': \"10px\" }), \n",
    "                       ], className=\"h-60\", style={'margin-bottom' : \"0px\", \n",
    "                                                   'margin-top' : \"0px\" }\n",
    "                    \n",
    "                    ),   \n",
    "                \n",
    "                 \n",
    "                 dbc.Row([\n",
    "                    html.H6('ℹ︎ доклад считается просмотренным, если зритель посмотрел половину и более его длительности',\n",
    "                                    style = {'font-size' : 12, \n",
    "                                             'color': \"#909090\",\n",
    "                                             \"margin-top\": \"-20px\",\n",
    "                                             \"margin-left\": \"-5px\",\n",
    "                                             \"margin-right\": \"40px\",\n",
    "                                             'margin-bottom' : \"5px\",\n",
    "                                             'text-align':'right'})], className=\"h-2\"),],  \n",
    "                    label=\"Общее ⎘\"),\n",
    "                # отрисовка 2 страницы дашборда\n",
    "                dbc.Tab([\n",
    "                    dbc.Tabs([\n",
    "                        dbc.Tab([\n",
    "                            dbc.Row([\n",
    "                                dbc.Col([\n",
    "                                    dcc.Graph(id='titles_top')], width={'size': 5},\n",
    "                                           style={'margin-bottom' : \"10px\", \n",
    "                                                  'margin-top' : \"0px\", \n",
    "                                                  'margin-left': \"25px\" }),\n",
    "                                dbc.Col([\n",
    "                                    dcc.Graph(id='speaker_top')],  width={'size': 5},\n",
    "                                              style={'margin-bottom' : \"0px\",\n",
    "                                                     'margin-top' : \"10px\", \n",
    "                                                     'margin-left': \"0px\" }),\n",
    "                       ], className=\"h-60\", style={'margin-bottom' : \"0px\", \n",
    "                                                   'margin-top' : \"10px\" })], label=\"График\"),\n",
    "                    \n",
    "                    dbc.Tab([\n",
    "                            dbc.Row([\n",
    "                                html.Br(),\n",
    "                                html.Div(id= 'table_titles')],\n",
    "                                        style={'margin-bottom' : \"0px\", \n",
    "                                               'margin-top' : \"0px\", \n",
    "                                               'margin-left': \"10px\" }),\n",
    "                    \n",
    "                ], label=\"Таблица 1\"),\n",
    "                    dbc.Tab([\n",
    "                            dbc.Row([\n",
    "                                html.Br(),\n",
    "                                html.Div(id= 'table_speakers')],\n",
    "                                         style={'margin-bottom' : \"0px\", \n",
    "                                                'margin-top' : \"0px\", \n",
    "                                                'margin-left': \"10px\" })], label=\"Таблица 2\")])\n",
    "                ], label=\"Выступления ⎘\"),\n",
    "            # отрисовка 3 страницы дашборда\n",
    "            dbc.Tab([\n",
    "                    dbc.Tabs([\n",
    "                        dbc.Tab([\n",
    "                            dbc.Row([\n",
    "                                dbc.Col([\n",
    "                                    dcc.Graph(id='section_scatter')], width={'size': 10},\n",
    "                                              style={'margin-bottom' : \"10px\", \n",
    "                                                     'margin-top' : \"0px\", \n",
    "                                                     'margin-left': \"50px\" }),\n",
    "                                 \n",
    "                                \n",
    "                       ], className=\"h-70\", style={'margin-bottom' : \"0px\", \n",
    "                                                   'margin-top' : \"30px\" })], \n",
    "                            label=\"График\"\n",
    "                    ),\n",
    "                    \n",
    "                    dbc.Tab([\n",
    "                            dbc.Row([\n",
    "                                html.Br(),\n",
    "                                html.Div(id= 'table_section')],\n",
    "                                         style={'margin-bottom' : \"0px\", \n",
    "                                                'margin-top' : \"0px\", \n",
    "                                                'margin-left': \"10px\" }),\n",
    "                    \n",
    "                ], label=\"Таблица\")])\n",
    "                   \n",
    "                ], \n",
    "                    label=\"Секции ⎘\")\n",
    "                  ])\n",
    "        ],  width={'size': 10})\n",
    "            \n",
    "    ], className=\"h-85\", style={'margin-left' : \"0px\", 'margin-right' : \"0px\"})\n",
    "    \n",
    "], style={\"backgroundColor\": \"#f8f8f8\", \n",
    "          \"margin-bottom\": \"10px\", \n",
    "          \"margin-top\": \"10px\",\n",
    "          'margin-left' : \"10px\",\n",
    "          'margin-right' : \"10px\",\n",
    "          \"color\":\"#254961\",\n",
    "          \"height\": \"100vh\"}) \n",
    "\n",
    "@app.callback(\n",
    "    [Output(\"count_users\", \"figure\"),\n",
    "     Output(\"count_speakers\", \"figure\"),\n",
    "     Output(\"сount_titles\", \"figure\"),\n",
    "     Output(\"сount_sections\", \"figure\"),\n",
    "     Output(\"mean_users_view\", \"figure\"),\n",
    "     Output(\"mean_users_titles\", \"figure\"),\n",
    "     Output(\"calendar\", \"figure\"),\n",
    "     Output(\"titles_top\", \"figure\"),\n",
    "     Output(\"speaker_top\", \"figure\"),\n",
    "     Output(\"table_titles\", \"children\"),\n",
    "     Output(\"table_speakers\", \"children\"),\n",
    "     Output(\"section_scatter\", \"figure\"),\n",
    "     Output(\"table_section\", \"children\")],\n",
    "    [Input(\"events-botton\", \"n_clicks\")], \n",
    "    [State(\"event-checklist\", \"value\"),\n",
    "     State(\"date-picker\", \"start_date\"),\n",
    "     State(\"date-picker\", \"end_date\")\n",
    "    ]\n",
    ")\n",
    "    \n",
    "def chart_calendar_events(n, events, start_date, end_date):\n",
    "    df_users = df1[(df1['event'].isin(events)) & (df1['dt'] >= start_date) & (df1['dt']<=end_date)]\n",
    "    \n",
    "    # индикатор подсчета уникальных пользователей\n",
    "    fig1 = indicator_chart(df_users['user_id'].nunique())\n",
    "    \n",
    "    # индикатор подсчета уникальных спикеров\n",
    "    fig2 = indicator_chart(df_users[df_users['speaker'] != '']['speaker'].str.split(', ').explode().nunique())\n",
    "    \n",
    "    # индикатор подсчета выступлений\n",
    "    fig3 = indicator_chart((df_users[df_users['speaker'] != ''].groupby('time_start', as_index=False)\n",
    "                  .agg({'title' : lambda x: x.str.split('+').explode().nunique()})['title'].sum()))\n",
    "    \n",
    "    # индикатор подсчета секций\n",
    "    fig4 = indicator_chart((df_users.groupby('section_start', as_index=False)\n",
    "                  .agg({'section' : 'nunique'})['section'].sum()))\n",
    "                   \n",
    "    # индикатор подсчета средней продолжительности просмотра на зрителя\n",
    "    fig5 = indicator_chart((df_users.groupby('user_id', as_index=False)\n",
    "                  .agg({'total_time_views_report' : lambda x: (x.sum() / 60)})['total_time_views_report']\n",
    "                  .mean()\n",
    "                  .round().astype('int')))\n",
    "        \n",
    "    # индикатор подсчета среднего количества просмотренных докладов на зрителя\n",
    "    fig6 = indicator_chart((df_users[df_users['speaker'] != ''].groupby('user_id', as_index=False)\n",
    "                  .agg({'report_head' : 'sum'})['report_head']\n",
    "                  .mean()\n",
    "                  .round().astype('int')))\n",
    "                   \n",
    "    # календарь\n",
    "    \n",
    "    event_calendar = df_users.groupby('dt')['user_id'].nunique().reset_index()\n",
    "    fig7 = calplot(event_calendar, x=\"dt\", y=\"user_id\", \n",
    "                gap=0.3, \n",
    "                name=\"Кол-во зрителей\",\n",
    "                month_lines_width=1.5, \n",
    "                month_lines_color=\"#757575\")\n",
    "    fig7.update_traces(\n",
    "                showscale = True, \n",
    "                selector=dict(type='heatmap'),\n",
    "                zmax=event_calendar['user_id'].max(),\n",
    "                zmin=event_calendar['user_id'].min(),\n",
    "                colorscale=px.colors.sequential.Teal,\n",
    "                colorbar=dict(thickness=14,  tickfont=dict(size=10, family=\"Lato\"),\n",
    "                title=dict(text='кол-во<br>зрителей<br> ', \n",
    "                            font=dict(size=12, family=\"Lato\"))))\n",
    "\n",
    "\n",
    "    fig7.update_layout( \n",
    "                      autosize=False, margin={\"r\":0,\"t\":15,\"l\":10,\"b\":45},\n",
    "                      width= 800,\n",
    "                      height=400,\n",
    "                      paper_bgcolor=\"#f8f8f8\", \n",
    "                      plot_bgcolor='#f8f8f8',\n",
    "                      font_color=\"#757575\", font_family='Lato', font_size = 14,\n",
    "                      yaxis=dict(\n",
    "                      title_text=event_calendar['dt'].dt.strftime('%Y').min(),  tickfont_family='Lato', tickfont_size= 10, tickfont_color='#757575'), \n",
    "                      yaxis2=dict(\n",
    "                      title_text=event_calendar['dt'].dt.strftime('%Y').max(), tickfont_family='Lato', tickfont_size= 10, tickfont_color='#757575'),\n",
    "                      xaxis=dict(\n",
    "                      tickfont_family='Lato', tickfont_size= 10, tickfont_color='#757575'), \n",
    "                      xaxis2=dict(title_text=\"\",\n",
    "                      tickfont_family='Lato', tickfont_size= 10, tickfont_color='#757575'))\n",
    "    \n",
    "    # 2- я страница \n",
    "    # график с топ-8 докладами\n",
    "    df_titles = titles_tab(df_users)\n",
    "    fig8 = horizont_plot2(df_titles.iloc[0:10].sort_values(by='number_views'), \"number_views\" , \"title_1\",\n",
    "               'Топ-10 докладов<br>по количеству просмотров<br>  <br> ' , 400, 620)\n",
    "    \n",
    "    # график с топ-8 спикерами\n",
    "    df_speaker = speakers_tab(df_users)\n",
    "    fig9 = horizont_plot2(df_speaker.iloc[0:10].sort_values(by='report_head'), \"report_head\", \"speaker\",\n",
    "               'Топ-10 спикеров<br>по количеству просмотров<br>  <br> ' , 500, 620)\n",
    "    \n",
    "    # таблица с докладами\n",
    "    data_title = df_titles[['dt', 'title',  'section', 'count_users', 'number_views', 'rate']]\n",
    "    data_title['dt'] = data_title['dt'].astype('str')\n",
    "    dt1 = dash_table.DataTable(\n",
    "        columns=[\n",
    "            {\"name\": [\"\", \"Дата\"], \"id\": \"dt\"},\n",
    "            {\"name\": [\"\", \"Доклад\"], \"id\": \"title\"},\n",
    "            {\"name\": [\"\", \"Секция\"], \"id\": \"section\"},\n",
    "            {\"name\": [\"Количество зрителей\", \"Просмотрело\"], \"id\": \"number_views\"},\n",
    "            {\"name\": [\"Количество зрителей\", \"Всего\"], \"id\": \"count_users\"},\n",
    "            {\"name\": [\"Количество зрителей\", \"%\"], \"id\": \"rate\"},\n",
    "                    ], \n",
    "         data=data_title.to_dict('records'),\n",
    "         page_size=10, merge_duplicate_headers=True,\n",
    "         style_data={\n",
    "                'width': '100px',\n",
    "                'maxWidth': '100px',\n",
    "                'minWidth': '100px', \n",
    "                'backgroundColor': '#f8f8f8'},\n",
    "         style_cell={'height': 'auto',\n",
    "                    'whiteSpace': 'normal', 'textAlign': 'left', 'fontFamily' : 'Lato', 'fontSize' : 14},\n",
    "         style_cell_conditional=[\n",
    "            {\n",
    "                'if': {'column_id': 'title'},\n",
    "                'width': '250px', \n",
    "                'textAlign': 'left', 'fontSize' : 14, 'fontFamily' : 'Lato', \n",
    "            }, \n",
    "            {\n",
    "                'if': {'column_id': 'section'},\n",
    "                'width': '200px', 'textAlign': 'left', 'fontSize' : 14, 'fontFamily' : 'Lato'\n",
    "           },\n",
    "           {\n",
    "                'if': {'column_id': 'dt'},\n",
    "                'width': '60px', 'textAlign': 'left', 'fontSize' : 14, 'fontFamily' : 'Lato'\n",
    "           },\n",
    "           {\n",
    "                'if': {'column_id': ['count_users', 'number_views', \"rate\"]},\n",
    "                'width': '60px', 'textAlign': 'right', 'fontSize' : 14, 'fontFamily' : 'Courier'\n",
    "           } ],\n",
    "        style_table={'overflowX': 'auto', 'backgroundColor': '#f8f8f8'},\n",
    "        style_header={'color': \"#1d3a4d\",  'fontSize' : 14, 'fontFamily' : 'Lato', 'fontWeight': 'bold', \n",
    "                          'backgroundColor': '#eef8f6'})\n",
    "    html1 = [html.Br(), html.P('Доклады', style = {'font-size' : 18,\n",
    "                                        'color': \"#1d3a4d\",\n",
    "                                        'font-weight' : 'bold'}), dt1]\n",
    "    # таблица по спикерам\n",
    "    data_speaker = df_speaker[['speaker',  'place_of_work', 'title', 'report_head','user_id','rate', 'mean_count']]\n",
    "\n",
    "    dt2= dash_table.DataTable(\n",
    "        columns=[\n",
    "            {\"name\": [\"\", \"Спикер\"], \"id\": \"speaker\"},\n",
    "            {\"name\": [\"\", \"Место работы\"], \"id\": \"place_of_work\"},\n",
    "            {\"name\": [\"\", \"Количество выступлений\"], \"id\": \"title\"},\n",
    "            {\"name\": [\"Количество зрителей\", \"Просмотрело\"], \"id\": \"report_head\"},\n",
    "            {\"name\": [\"Количество зрителей\", \"Всего\"], \"id\": \"user_id\"},\n",
    "            {\"name\": [\"Количество зрителей\", \"%\"], \"id\": \"rate\"},\n",
    "            {\"name\": [\"Количество зрителей\", \"Ср. кол-во просмотров\"], \"id\": \"mean_count\"},\n",
    "        ], \n",
    "         data=data_speaker.to_dict('records'),\n",
    "         page_size=10, merge_duplicate_headers=True,\n",
    "         style_data={\n",
    "            'width': '100px',\n",
    "            'maxWidth': '100px',\n",
    "            'minWidth': '100px', \n",
    "            'backgroundColor': '#f8f8f8',\n",
    "        },\n",
    "        style_cell={\n",
    "                'height': 'auto', 'whiteSpace': 'normal', 'textAlign': 'left', \n",
    "                'fontFamily' : 'Lato', 'fontSize' : 14\n",
    "        },\n",
    "        style_cell_conditional=[\n",
    "           {\n",
    "            'if': {'column_id': 'speaker'},\n",
    "            'width': '200px', \n",
    "            'textAlign': 'left', 'fontSize' : 14, 'fontFamily' : 'Lato', \n",
    "           }, \n",
    "           {\n",
    "            'if': {'column_id': 'place_of_work'},\n",
    "            'width': '200px', 'textAlign': 'left', 'fontSize' : 14, 'fontFamily' : 'Lato'\n",
    "           },\n",
    "         \n",
    "             {\n",
    "            'if': {'column_id': ['title', 'report_head', 'user_id', \"rate\", 'mean_count']},\n",
    "            'width': '60px', 'textAlign': 'right', 'fontSize' : 14, 'fontFamily' : 'Courier'\n",
    "           }, \n",
    "        ],\n",
    "        style_table={'overflowX': 'auto', 'backgroundColor': '#f8f8f8'},\n",
    "        style_header={'color': '#1d3a4d',  'fontSize' : 14, 'fontFamily' : 'Lato', 'fontWeight': 'bold', \n",
    "                     'backgroundColor': '#eef8f6'\n",
    "        })\n",
    "    \n",
    "    html2 = [html.Br(), html.P('Спикеры', style = {'font-size' : 18,\n",
    "                                        'color': \"#1d3a4d\",\n",
    "                                        'font-weight' : 'bold'}), dt2]\n",
    "    # 3 страница \n",
    "    # скатерплот по секциям\n",
    "    df_section = sections_tab(df_users)\n",
    "    fig10 = scatter_chart(df_section, \"mean_depth\", \"count_users\",  \"event_new\", 'mean_number_views', 950, 600)\n",
    "    \n",
    "    # таблица по секциям\n",
    "    data_section = df_section[['dt',  'section', 'basic', 'count_titles', 'mean_number_views', 'count_users','mean_depth']]\n",
    "    data_section['dt'] = data_section['dt'].astype('str')\n",
    "    dt3 = dash_table.DataTable(\n",
    "        columns=[\n",
    "            {\"name\": [\"Дата\"], \"id\": \"dt\"},\n",
    "            {\"name\": [\"Секция\"], \"id\": \"section\"},\n",
    "            {\"name\": [\"Направление\"], \"id\": 'basic'},\n",
    "            {\"name\": [\"Количество докладов\"], \"id\": \"count_titles\"},\n",
    "            {\"name\": [\"Ср. кол-во просмотров\"], \"id\": 'mean_number_views'},\n",
    "            {\"name\": [\"Количество зрителей\"], \"id\": \"count_users\"},\n",
    "            {\"name\": [\"Глубина просмотра, %\"], \"id\": \"mean_depth\"},\n",
    "        ], \n",
    "         data=data_section.to_dict('records'),\n",
    "         page_size=10, merge_duplicate_headers=True,\n",
    "         style_data={\n",
    "            'width': '100px',\n",
    "            'maxWidth': '100px',\n",
    "            'minWidth': '100px', \n",
    "            'backgroundColor': '#f8f8f8'},\n",
    "        style_cell={'height': 'auto','whiteSpace': 'normal', 'textAlign': 'left', \n",
    "                    'fontFamily' : 'Lato', 'fontSize' : 14},\n",
    "        style_cell_conditional=[\n",
    "           {\n",
    "            'if': {'column_id': ['section', 'basic']},\n",
    "            'width': '200px', \n",
    "            'textAlign': 'left', 'fontSize' : 14, 'fontFamily' : 'Lato', \n",
    "           }, \n",
    "           {\n",
    "            'if': {'column_id': 'dt'},\n",
    "            'width': '60px', 'textAlign': 'left', 'fontSize' : 14, 'fontFamily' : 'Lato'\n",
    "           },\n",
    "         \n",
    "           {\n",
    "            'if': {'column_id': [\"count_titles\", 'mean_number_views', \"count_users\", 'mean_depth']},\n",
    "            'width': '60px', 'textAlign': 'right', 'fontSize' : 14, 'fontFamily' : 'Courier'\n",
    "           }, \n",
    "        ],\n",
    "        style_table={'overflowX': 'auto', 'backgroundColor': '#f8f8f8'},\n",
    "        style_header={'color': '#1d3a4d',  'fontSize' : 14, 'fontFamily' : 'Lato', 'fontWeight': 'bold', \n",
    "                     'backgroundColor': '#eef8f6'} )\n",
    "    html3 = [html.Br(), html.P('Секции', style = {'font-size' : 18,\n",
    "                                        'color': \"#1d3a4d\",\n",
    "                                        'font-weight' : 'bold'}), dt3]\n",
    "    \n",
    "    return fig1, fig2, fig3, fig4, fig5, fig6, fig7, fig8, fig9, html1, html2, fig10, html3\n",
    " \n",
    "\n",
    "if __name__ == '__main__':\n",
    "    app.run(jupyter_mode=\"external\", port=2009)\n",
    "    \n",
    "    "
   ]
  },
  {
   "cell_type": "markdown",
   "id": "3ce8534b",
   "metadata": {},
   "source": [
    "![](https://github.com/KristinaChu/picture/blob/main/oncoforum/%D0%94%D0%B0%D1%88%D0%B1%D0%BE%D1%80%D0%B4_1.png?raw=true)"
   ]
  },
  {
   "cell_type": "markdown",
   "id": "c8a66462",
   "metadata": {},
   "source": [
    "![](https://github.com/KristinaChu/picture/blob/main/oncoforum/%D0%94%D0%B0%D1%88%D0%B1%D0%BE%D1%80%D0%B4_2.png?raw=true)"
   ]
  },
  {
   "cell_type": "markdown",
   "id": "11f6b79b",
   "metadata": {},
   "source": [
    "![](https://github.com/KristinaChu/picture/blob/main/oncoforum/%D0%94%D0%B0%D1%88%D0%B1%D0%BE%D1%80%D0%B4_3.png?raw=true)"
   ]
  },
  {
   "cell_type": "markdown",
   "id": "c1eddedd",
   "metadata": {},
   "source": [
    "![](https://github.com/KristinaChu/picture/blob/main/oncoforum/%D0%94%D0%B0%D1%88%D0%B1%D0%BE%D1%80%D0%B4_4.png?raw=true)"
   ]
  },
  {
   "cell_type": "markdown",
   "id": "80e10534",
   "metadata": {},
   "source": [
    "## Список зрителей для рекомендаций \n",
    "<a id=\"recommendation\"></a>"
   ]
  },
  {
   "cell_type": "markdown",
   "id": "47a3ce74",
   "metadata": {},
   "source": [
    "Составим список зрителей для каждой секции, в зависимости от глубины её просмотра."
   ]
  },
  {
   "cell_type": "code",
   "execution_count": null,
   "id": "a43c94cc",
   "metadata": {},
   "outputs": [],
   "source": [
    "# сгруппируем данные и выведем глубину просмотра по секции для каждого пользователя\n",
    "users_section_viewing_depth = (df1\n",
    "                                .groupby(['user_id', 'section', 'section_start'], as_index=False)\n",
    "                                .agg(viewing_depth = ('ratio_duration_section', 'first'))\n",
    "                                 )\n",
    "# разобьем глубину просмотра на категории 0-10, 10-30, 30-50, 50-70, 70-90, 90-100\n",
    "cut_labels = ['0-10', '10-30', '30-50', '50-70', '70-90', '90-100']\n",
    "cut_bins = [-0.1, 9.99, 29.99, 49.99, 69.99, 89.99, 100]\n",
    "\n",
    "users_section_viewing_depth['groups_viewing_depth'] = pd.cut(users_section_viewing_depth['viewing_depth'],\n",
    "                                                             bins=cut_bins,\n",
    "                                                             labels=cut_labels)\n",
    "users_section_viewing_depth.head()"
   ]
  },
  {
   "cell_type": "code",
   "execution_count": null,
   "id": "3ffff355",
   "metadata": {},
   "outputs": [],
   "source": [
    "# сделаем сводную таблицу выведем для каждой секции и категории по глубине просмотра список зрителей\n",
    "recommendation_section = (users_section_viewing_depth\n",
    "                                        .pivot_table(index='section', \n",
    "                                                     columns='groups_viewing_depth',\n",
    "                                         aggfunc=({'user_id': (lambda x: ', '.join(sorted(pd.Series.unique(x))))}))\n",
    "                                        .reset_index()\n",
    "                                                )\n",
    "# скорректируем названия столбцов    \n",
    "recommendation_section.columns = ['_'.join(col).strip() for col in recommendation_section.columns.values]\n",
    "recommendation_section.columns = [col.split('_')[-1] if 'user' in col else col.split('_')[0]\n",
    "                                                for col in recommendation_section.columns.values]\n",
    "recommendation_section.head()"
   ]
  },
  {
   "cell_type": "markdown",
   "id": "a242dd72",
   "metadata": {},
   "source": [
    "## Вывод\n",
    "<a id=\"finish\"></a>"
   ]
  },
  {
   "cell_type": "markdown",
   "id": "4a71ffd1",
   "metadata": {},
   "source": [
    "В ходе исследования данных о просмотрах 2-х онкофорумов и 6-ти вебинаров за 2022 и 2023 года удалось выяснить следующее: \n",
    "\n",
    "- посмотрело данные мероприятия 3140 уникальных зрителя, из них 2860 смотрели именно онкофорумы\n",
    "- больше всего зрителей из Санкт-Петербурга(1067) и Москвы(528), а по профессии больше всего врачей хирургов-онкологов (525 зрителей)\n",
    "- количество докладов, секций и спикеров на онкофоруме в 2023 году, было больше, чем годом ранее, несмотря на то, что сам онкофорум длился на 1 день меньше.\n",
    "- на онкофоруме в 2023 году зрители в среднем просмотрели больше докладов и провели больше времени. Среднее кол-во просмотренных выступлений зрителем в день на \"Мероприятие 12\" составило почти 10 докладов, в 2022 году почти на 2 доклада меньше\n",
    "- распределение кол-ва зрителей и их вовлеченность отличается в зависимости от дня проведения, на выходных днях зрителей в разы меньше, но вовлеченность их не ниже, чем в другие дни.\n",
    "- в среднем на одно выступление (доклад) приходится 77 зрителей, а посмотрело половину и более доклада(просмотр)- 53 зрителя, на онкофоруме в 2022, в среднем просмотров на 1 доклад было 56, в 2023 году - 51. \n",
    "- в среднем кол-во докладов в секции составила 5.6, а вот зрители смотрели в среднем в секциях немного меньше 2 докладов, средняя глубина просмотра длительности секции составила  32% , для онкофорумов данные сильно не отличаются друг от друга\n",
    "- самыми популярными докладами среди всех докладов стали доклады 1-го дня \"Мероприятие 12\", так как в этот день был один поток и не было разделения зрителей  \n",
    "- самые популярные тематики у зрителей всех профессий стали мультидисциплинарное, лекарственная терапия и хирургия, а также оргздав,  зрители смотрят не только секции по своей направленности, но и смежные секции,например, из 529 врачей онкологов-хирургов  63% посмотрели хотя бы один доклад в тематике по хирургии, а доклады с мультидисциплинарной темой, посмотрело больше 69%. Хирургическая секция также популярна у врачей-химиотерапевтов, 60% из них посмотрели хотя бы один доклад по хирургии, но большая доля врачей-химиотерапевтов смотрело мультидисциплинарные  и лекарственные секции\n",
    "\n",
    "**Рекомендации:**\n",
    "- выявить и устранить технические причины, приводящие к ошибкам данным по сбору данных о сессиях зрителей(пересекающие по времени секции и др.)\n",
    "- изменить процедуру сбора информации о профессиях и специализациях пользователей (сделать этот пункт обязательным при регистрации, сделать выбор по конкретному выпадающему списку), это позволит улучшить построение рекомендательных систем\n",
    "- изменить способ хранения данных о расписании и тематиках секций\n",
    "- учитывая популярность у всех зрителей таких тематик, как мультидисциплинарное, лекарственная терапия и хирургия, а также оргздав стоит развивать данные секции на онкофорумах\n",
    "- количество параллельно идущих по времени секций влияет на глубину просмотра и количество зрителей в секциях, стоит учитывать данный факт при составлении расписания\n",
    "\n",
    "\n"
   ]
  },
  {
   "cell_type": "code",
   "execution_count": null,
   "id": "ec7cfcb9",
   "metadata": {},
   "outputs": [],
   "source": []
  }
 ],
 "metadata": {
  "kernelspec": {
   "display_name": "Python 3 (ipykernel)",
   "language": "python",
   "name": "python3"
  },
  "language_info": {
   "codemirror_mode": {
    "name": "ipython",
    "version": 3
   },
   "file_extension": ".py",
   "mimetype": "text/x-python",
   "name": "python",
   "nbconvert_exporter": "python",
   "pygments_lexer": "ipython3",
   "version": "3.9.12"
  }
 },
 "nbformat": 4,
 "nbformat_minor": 5
}
